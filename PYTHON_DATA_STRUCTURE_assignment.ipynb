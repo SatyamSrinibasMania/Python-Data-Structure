{
  "nbformat": 4,
  "nbformat_minor": 0,
  "metadata": {
    "colab": {
      "provenance": []
    },
    "kernelspec": {
      "name": "python3",
      "display_name": "Python 3"
    },
    "language_info": {
      "name": "python"
    }
  },
  "cells": [
    {
      "cell_type": "markdown",
      "source": [
        "#**PYTHON - DATA STRUCTURE**"
      ],
      "metadata": {
        "id": "eJsZCAIUDnNb"
      }
    },
    {
      "cell_type": "markdown",
      "source": [
        "**THEORITICAL QUESTIONS**"
      ],
      "metadata": {
        "id": "HEUsIE44cmIw"
      }
    },
    {
      "cell_type": "markdown",
      "source": [
        "**1. What are data structures, and why are they important ?**\n",
        "- **Data structures** are specialized formats for organizing, storing, and managing data in a computer so that it can be accessed and modified efficiently. They are essential for optimizing both the performance and functionality of software applications.\n",
        "\n",
        "- **Types of Data Structures :**\n",
        " - **Arrays :** Fixed-size collections of elements of the same type, allowing quick access to elements by index.\n",
        "\n",
        " - **Linked Lists :** A sequence of elements, where each element points to the next one, allowing efficient insertion and deletion.\n",
        "\n",
        " - **Stacks :** A collection of elements that follows Last In, First Out (LIFO) order.\n",
        "\n",
        " - ***Queues :** A collection of elements that follows First In, First Out (FIFO) order.\n",
        "\n",
        " - **Trees :** Hierarchical structures where each element (node) has a parent and potentially multiple children, used in applications like databases and file systems.\n",
        "\n",
        " - **Hash Tables :** A structure that maps keys to values, providing very efficient search and insertion times.\n",
        "\n",
        "- **Data Structures are important because,**\n",
        " - **Efficiency :** Different data structures have different time complexities for operations like insertion, deletion, and searching. Choosing the right structure can drastically improve the efficiency of an application.\n",
        "   \n",
        " - **Memory Management :** Data structures allow for more efficient memory usage. For instance, linked lists can save memory by only allocating space as needed, unlike arrays that may allocate more memory than necessary.\n",
        "\n",
        " - **Scalability :** As the size of your data grows, certain data structures allow for better scalability. For example, trees or hash tables can handle larger datasets much more efficiently than arrays.\n",
        "\n",
        " - **Optimization :** Algorithms depend on data structures to function optimally. For example, binary search trees allow faster searching than unsorted arrays, and hash tables allow constant-time lookups.\n",
        "\n",
        " - **Problem Solving :** Many problems are best solved by using a specific data structure. For example, graph algorithms often require graphs, and pathfinding problems rely on trees or graphs.\n",
        "\n",
        "- **Data structures** form the backbone of efficient algorithm design, and their importance lies in the ability to handle data in a way that ensures both time and space efficiency."
      ],
      "metadata": {
        "id": "Aoti48wOcv47"
      }
    },
    {
      "cell_type": "markdown",
      "source": [
        "**2.\tExplain the difference between mutable and immutable data types with examples.**\n",
        "- In programming, **mutable** and **immutable** refer to whether or not the contents of a data structure or object can be changed after it's created.\n",
        "\n",
        "- **Mutable Data Types :**\n",
        " - **Mutable** data types are those whose contents (or state) can be changed after the object is created. This means you can modify, add, or remove elements in the object without creating a new one.\n",
        "\n",
        " - We can change their contents or state after they are created and the changes made to a mutable object will affect all references to that object.\n",
        "\n",
        " - Example of Mutable Data Types : **Lists, Dictionaries, Sets**"
      ],
      "metadata": {
        "id": "oMYEF4ZhcvwA"
      }
    },
    {
      "cell_type": "code",
      "source": [
        "# EXAMPLE : (Mutable Data Type - List)\n",
        "\n",
        "my_list = [1, 2, 3]\n",
        "print(my_list)  # Output: [1, 2, 3]\n",
        "\n",
        "# Modify the list\n",
        "my_list.append(4)\n",
        "print(my_list)  # Output: [1, 2, 3, 4]\n",
        "\n",
        "# In this example, we can see that we have modified the contents of the list by adding an element, without needing to create a new list."
      ],
      "metadata": {
        "colab": {
          "base_uri": "https://localhost:8080/"
        },
        "id": "ARbnlWAKzKDb",
        "outputId": "d598c69a-972b-41ac-b59a-77e6589a3508"
      },
      "execution_count": 1,
      "outputs": [
        {
          "output_type": "stream",
          "name": "stdout",
          "text": [
            "[1, 2, 3]\n",
            "[1, 2, 3, 4]\n"
          ]
        }
      ]
    },
    {
      "cell_type": "markdown",
      "source": [
        "- **Immutable Data Types :**\n",
        " - **Immutable** data types, on the other hand, are those whose contents cannot be changed after they are created. Any attempt to change the data will result in the creation of a new object.\n",
        "\n",
        " - We cannot change their contents once created, any modification leads to a new object being created, often used for data that shouldn't change, ensuring data integrity and reducing side effects in programs.\n",
        "\n",
        " - Example of Immutable Data Types : **Strings, Tuples, Integers, Floats**"
      ],
      "metadata": {
        "id": "tRFkUWaYzwOt"
      }
    },
    {
      "cell_type": "code",
      "source": [
        "# EXAMPLE : (Immutable Data Type - String)\n",
        "\n",
        "my_string = \"Hello\"\n",
        "print(my_string)  # Output: \"Hello\"\n",
        "\n",
        "# Attempt to change the string\n",
        "my_string = \"World\"\n",
        "print(my_string)  # Output: \"World\"\n",
        "\n",
        "# In this example, when we assign \"World\" to my_string, we have not modified the original string. Instead, we have created a new string object and re-assigned it to the variable. The original \"Hello\" string still exists in memory, but it's no longer referenced.\n"
      ],
      "metadata": {
        "colab": {
          "base_uri": "https://localhost:8080/"
        },
        "id": "_1MqiJd311Nr",
        "outputId": "e6b9c40b-1089-4e45-b538-9c8ecb6aa821"
      },
      "execution_count": null,
      "outputs": [
        {
          "output_type": "stream",
          "name": "stdout",
          "text": [
            "Hello\n",
            "World\n"
          ]
        }
      ]
    },
    {
      "cell_type": "markdown",
      "source": [
        "- In short,\n",
        " - **Mutable** types allow changes to their content.\n",
        "\n",
        " - **Immutable** types do not allow modifications and always create a new instance when changed."
      ],
      "metadata": {
        "id": "ZLOcun0L112h"
      }
    },
    {
      "cell_type": "markdown",
      "source": [
        "**3.\tWhat are the main differences between lists and tuples in Python ?**\n",
        "- In Python, **lists** and **tuples** are both used to store collections of items, but they have several key differences in terms of mutability, performance, and usage.\n",
        "\n",
        "- **Mutability :**\n",
        " - **Lists** are **mutable**, meaning you can modify their content after creation (e.g., adding, removing, or changing elements).\n",
        "\n",
        " - **Tuples** are **immutable**, meaning their content cannot be changed once they are created. You cannot add, remove, or modify elements of a tuple after its creation."
      ],
      "metadata": {
        "id": "GuDzWeEfcvk0"
      }
    },
    {
      "cell_type": "code",
      "source": [
        "# EXAMPLE :\n",
        "\n",
        "# List (Mutable)\n",
        "my_list = [1, 2, 3]\n",
        "my_list[1] = 5\n",
        "my_list.append(4)       # List can be modified\n",
        "print(my_list)       # Output: [1, 5, 3, 4]"
      ],
      "metadata": {
        "colab": {
          "base_uri": "https://localhost:8080/"
        },
        "id": "LLYkRfbk3xXE",
        "outputId": "4385da34-e18a-401e-e62e-a948ba15e26b"
      },
      "execution_count": null,
      "outputs": [
        {
          "output_type": "stream",
          "name": "stdout",
          "text": [
            "[1, 5, 3, 4]\n"
          ]
        }
      ]
    },
    {
      "cell_type": "code",
      "source": [
        "# Tuple (Immutable)\n",
        "my_tuple = (1, 2, 3)\n",
        "my_tuple[1] = 5         # This will raise an error\n",
        "my_tuple.append(4)   # This will also raise an error"
      ],
      "metadata": {
        "id": "OjWOtJ9b6uPt"
      },
      "execution_count": null,
      "outputs": []
    },
    {
      "cell_type": "markdown",
      "source": [
        "- **Syntax :**\n",
        " - **Lists** are created using square brackets [ ].\n",
        "\n",
        " - **Tuples** are created using parentheses ( )."
      ],
      "metadata": {
        "id": "62jYauW44Xs9"
      }
    },
    {
      "cell_type": "code",
      "source": [
        "# EXAMPLE :\n",
        "\n",
        "# List\n",
        "my_list = [1, 2, 3]\n",
        "\n",
        "# Tuple\n",
        "my_tuple = (1, 2, 3)"
      ],
      "metadata": {
        "id": "QmBJv1Ba4oHB"
      },
      "execution_count": null,
      "outputs": []
    },
    {
      "cell_type": "markdown",
      "source": [
        "- **Performance :**\n",
        " - **Lists** tend to be **slower** than **tuples** because they are designed to be dynamic (i.e., elements can be added or removed).\n",
        "\n",
        " - **Tuples** are generally **faster** than **lists** for iteration and access because they are immutable, and their memory usage is more efficient due to their fixed size."
      ],
      "metadata": {
        "id": "PhBquzbF44n6"
      }
    },
    {
      "cell_type": "code",
      "source": [
        "# EXAMPLE :\n",
        "\n",
        "import timeit\n",
        "\n",
        "list_time = timeit.timeit('my_list = [1, 2, 3, 4, 5]', number=1000000)\n",
        "tuple_time = timeit.timeit('my_tuple = (1, 2, 3, 4, 5)', number=1000000)\n",
        "\n",
        "print(f\"List creation time: {list_time}\")\n",
        "print(f\"Tuple creation time: {tuple_time}\")\n",
        "\n",
        "# Tuples are generally faster than lists for iteration and access."
      ],
      "metadata": {
        "colab": {
          "base_uri": "https://localhost:8080/"
        },
        "id": "_eovY1t85UdH",
        "outputId": "e9972944-cd95-4f54-f7a1-cacdd30e831b"
      },
      "execution_count": null,
      "outputs": [
        {
          "output_type": "stream",
          "name": "stdout",
          "text": [
            "List creation time: 0.05462639899997157\n",
            "Tuple creation time: 0.011712424000052124\n"
          ]
        }
      ]
    },
    {
      "cell_type": "markdown",
      "source": [
        "- **Methods :**\n",
        " - **Lists** have many built-in methods that allow US to modify the data, such as **append(), remove(), extend(), pop(), insert(), and sort()**.\n",
        "\n",
        " - **Tuples** have fewer built-in methods because they are immutable. Common methods include **count()** and **index()**, but there are no methods for adding or removing items."
      ],
      "metadata": {
        "id": "lqcBAgyd6BeN"
      }
    },
    {
      "cell_type": "code",
      "source": [
        "# EXAMPLE (List method)\n",
        "\n",
        "my_list = [1, 2, 3]\n",
        "my_list.append(4)  # Can modify list\n",
        "my_list.remove(2)  # Can modify list\n",
        "print(my_list)  # Output: [1, 3, 4]"
      ],
      "metadata": {
        "colab": {
          "base_uri": "https://localhost:8080/"
        },
        "id": "hqCHJyrA6WNU",
        "outputId": "33ab09dc-4c0f-4292-ab53-b4652de0509f"
      },
      "execution_count": null,
      "outputs": [
        {
          "output_type": "stream",
          "name": "stdout",
          "text": [
            "[1, 3, 4]\n"
          ]
        }
      ]
    },
    {
      "cell_type": "code",
      "source": [
        "# EXAMPLE (Tuple method)\n",
        "\n",
        "my_tuple = (1, 2, 3)\n",
        "# my_tuple.append(4)  # This would raise an error\n",
        "print(my_tuple.count(2))  # Output: 1"
      ],
      "metadata": {
        "colab": {
          "base_uri": "https://localhost:8080/"
        },
        "id": "C5suucEY6cbW",
        "outputId": "f854aa2d-9703-4252-c87f-6992917c7ffd"
      },
      "execution_count": null,
      "outputs": [
        {
          "output_type": "stream",
          "name": "stdout",
          "text": [
            "1\n"
          ]
        }
      ]
    },
    {
      "cell_type": "markdown",
      "source": [
        "- **Use Cases :**\n",
        " - **Lists** are ideal for collections of items that might need to change over time (e.g., dynamically changing collections, lists of objects that are modified).\n",
        "\n",
        " - **Tuples** are often used for data that should remain constant throughout the program. They are commonly used for:\n",
        "   - Storing fixed collections of items (e.g., coordinates or database records).\n",
        "\n",
        "   - As keys in dictionaries (since tuples are hashable, while lists are not).\n",
        "\n",
        "- **Memory Efficiency :**\n",
        " - **Tuples** are more memory efficient because they are fixed in size and do not require additional overhead for dynamic resizing.\n",
        "\n",
        " - **Lists** have additional overhead to accommodate their mutability, making them slightly more memory-heavy.\n",
        "\n",
        "- **Immutability and Hashing :**\n",
        " - **Tuples** can be used as keys in dictionaries (since they are immutable and hashable).\n",
        "\n",
        " - **Lists** cannot be used as dictionary keys because they are mutable and therefore unhashable."
      ],
      "metadata": {
        "id": "R0VhsmjLcvST"
      }
    },
    {
      "cell_type": "code",
      "source": [
        "# EXAMPLE :\n",
        "\n",
        "# Tuple as dictionary key\n",
        "my_dict = { (1, 2): \"value\" }  # Valid"
      ],
      "metadata": {
        "id": "muIvdbY49rKO"
      },
      "execution_count": null,
      "outputs": []
    },
    {
      "cell_type": "code",
      "source": [
        "# List as dictionary key\n",
        "my_dict = { [1, 2]: \"value\" }  # This will raise an error because lists are mutable"
      ],
      "metadata": {
        "id": "Fi3FBWlV-Oml"
      },
      "execution_count": null,
      "outputs": []
    },
    {
      "cell_type": "markdown",
      "source": [
        "- **Lists** is used when we need a mutable, ordered collection that may change over time.\n",
        "\n",
        "- **Tuples** is used when we need an immutable collection, for safety or performance reasons, or when we need to use the collection as a dictionary key."
      ],
      "metadata": {
        "id": "Gto1MhbDcu3N"
      }
    },
    {
      "cell_type": "markdown",
      "source": [
        "**4.\tDescribe how dictionaries store data.**\n",
        "- **Dictionaries** in programming, especially in languages like Python, store data in key-value pairs.\n",
        "\n",
        "- **Keys :**\n",
        " - Each element in a dictionary has a unique key. The key is used to access the corresponding value. Keys are usually immutable (e.g., strings, numbers, or tuples).\n",
        "  \n",
        "- **Values :**\n",
        " - The value is the data associated with a key. This can be any data type—strings, numbers, lists, or even other dictionaries.\n",
        "\n",
        "- **Hashing :**\n",
        " - Internally, dictionaries often use a technique called hashing to quickly find the correct location in memory for each key. When a key is added to the dictionary, it’s passed through a hash function, which generates a unique hash code that corresponds to its position in the dictionary's underlying data structure (usually a hash table).\n",
        "\n",
        "- **Efficiency :**\n",
        " - The use of hashing allows for fast lookups, additions, and deletions—typically O(1) on average. This means accessing the value for a given key is nearly constant time.\n",
        "\n",
        "- **Storage :**\n",
        " - In Python, dictionaries are implemented as dynamic hash tables. When we insert a key-value pair, the dictionary checks if the key already exists. If it does, it updates the value. If not, it adds the new pair to the dictionary.\n",
        "\n",
        "- In simple terms, a dictionary provides a fast and efficient way to look up, add, or modify data based on unique keys."
      ],
      "metadata": {
        "id": "Lmpz6liS-0z6"
      }
    },
    {
      "cell_type": "markdown",
      "source": [
        "**5.\tWhy might you use a set instead of a list in Python ?**\n",
        "- We might choose a **set** instead of a **list** in Python for several key reasons:\n",
        "\n",
        "- **Uniqueness of Elements :**\n",
        "   - **Set :** Automatically removes duplicate values. If we add an element to a set that already exists, it won’t be added again.\n",
        "\n",
        "   - **List :** Allows duplicates; we can have the same element multiple times in a list.\n",
        "   \n",
        "   - **Use case :** If we need a collection of unique elements (e.g., to track unique IDs or avoid duplicates in a collection), a set is ideal.\n",
        "\n",
        "- **Faster Membership Testing :**\n",
        "   - **Set :** Provides O(1) average time complexity for checking if an element exists using the in operator. This means it’s very fast for membership tests.\n",
        "\n",
        "   - **List :** Takes O(n) time to check if an element is in the list, because it must potentially scan through the entire list.\n",
        "   \n",
        "   - **Use case :** If you frequently need to check if an element is in a collection, sets are much more efficient.\n",
        "\n",
        "- **Set Operations :**\n",
        "   - **Set :** Supports mathematical set operations like union, intersection, difference, and symmetric difference directly (e.g., A | B, A & B).\n",
        "\n",
        "   - **List :** Does not support these operations directly and requires more manual coding to achieve similar results.\n",
        "   \n",
        "   - **Use case :** If we need to perform set-based operations (e.g., finding common elements between two collections), sets are the natural choice.\n",
        "\n",
        "- **No Ordering :**\n",
        "   - **Set :** Does not maintain the order of elements. When we iterate over a set, the order might not be the same as the order in which we added the elements.\n",
        "\n",
        "   - **List :** Maintains the order of elements, so we can rely on the position of elements.\n",
        "   \n",
        "   - **Use case :** If we don’t care about the order of elements and just need a collection of unique items, a set is a better choice. If order is important, we should use a list.\n",
        "\n",
        "- **Memory Efficiency :**\n",
        "   - **Set :** Generally uses more memory than a list, but the trade-off is faster lookups, removals, and additions.\n",
        "\n",
        "   - **List :** Uses less memory, but lookup and removal operations can be slower for large collections.\n",
        "   \n",
        "   - **Use case :** If we need fast access or removal and are okay with a slightly higher memory usage, a set is more efficient.\n",
        "\n",
        "- We use a set when we need unique elements, fast membership testing, and set operations.\n",
        "\n",
        "- We use a list when we need ordered elements, allow duplicates, and need to preserve the insertion order.\n",
        "\n",
        "- So, the choice depends on whether we care about uniqueness, ordering, and performance for specific operations."
      ],
      "metadata": {
        "id": "bWt2u9Bo_tra"
      }
    },
    {
      "cell_type": "markdown",
      "source": [
        "**6.\tWhat is a string in Python, and how is it different from a list ?**\n",
        "- In Python, a **string** is a sequence of characters, used to represent textual data. It is immutable, meaning once created, we cannot modify the individual characters of a string.\n",
        "\n",
        "- **Some characteristics of a String :**\n",
        " - **Defined using quotes :** Strings are enclosed in either single quotes (') or double quotes (\").\n",
        "\n",
        "   - **Example:** 'Hello', \"World\", '1234'\n",
        "\n",
        " - **Immutable :** Once a string is created, you cannot change the characters at specific positions. If you want to change a string, you must create a new one.\n",
        "\n",
        " - **Indexed and sliced :** Like lists, strings are ordered and can be indexed and sliced. Indexing starts at 0.\n",
        "\n",
        "   - **Example:** 'Hello'[0] gives 'H', and 'Hello'[:3] gives 'Hel'.\n",
        "\n",
        "- **Difference between a String and a List :**\n",
        "\n",
        "| Feature                  | String                                         | List                                       |\n",
        "|--------------------------|----------------------------------------------------|------------------------------------------------|\n",
        "| **Type**                  | A string is a sequence of characters.             | A list is a collection of any type of objects (strings, numbers, other lists, etc.). |\n",
        "| **Mutability**           | Immutable : Once created, we cannot modify the string directly. | Mutable: We can change, add, or remove elements. |\n",
        "| **Data Types**           | Only stores characters (text).                    | Can store elements of different types (integers, strings, lists, etc.). |\n",
        "| **Operations**            | Supports string-specific operations (e.g., concatenation, searching, formatting). | Supports list-specific operations (e.g., appending, removing, sorting). |\n",
        "| **Indexing**              | Strings are indexed by position. Example: 'abc'[1] returns 'b'. | Lists are indexed by position, but can hold different types of elements. Example: [1, 2, 3][1] returns 2. |\n",
        "| **Length**                | len() gives the number of characters in the string. | len() gives the number of items in the list. |\n",
        "| **Memory Efficiency**     | More memory-efficient for handling text data.     | Lists use more memory because they are more flexible and can hold multiple types of data. |\n",
        "\n",
        "- **Strings** are specifically for handling text and are immutable.\n",
        "\n",
        "- **Lists** are more general-purpose and it can hold mixed types of data, and they are mutable (we can modify them after creation).\n",
        "\n",
        "- We use **strings** when working with text, and **lists** when we need a collection of various types of items that we might modify."
      ],
      "metadata": {
        "id": "U1LGcXYG_uHf"
      }
    },
    {
      "cell_type": "code",
      "source": [
        "# EXAMPLE : (String)\n",
        "\n",
        "s = \"Hello, World!\"\n",
        "print(s[0])         # 'H'  (Accesses the first character)\n",
        "print(s[7:12])      # 'World' (Slicing the string)"
      ],
      "metadata": {
        "colab": {
          "base_uri": "https://localhost:8080/"
        },
        "id": "fjGy5eJAnYNo",
        "outputId": "387f8e76-1580-445a-a82b-4cf0ded38cae"
      },
      "execution_count": null,
      "outputs": [
        {
          "output_type": "stream",
          "name": "stdout",
          "text": [
            "H\n",
            "World\n"
          ]
        }
      ]
    },
    {
      "cell_type": "code",
      "source": [
        "# EXAMPLE : (List)\n",
        "\n",
        "lst = [1, \"apple\", 3.14, True]\n",
        "print(lst[1])                   # 'apple'  (Accesses the second element in the list)\n",
        "lst.append(\"new item\")          # Adds a new item to the list"
      ],
      "metadata": {
        "colab": {
          "base_uri": "https://localhost:8080/"
        },
        "id": "1B8SnLLEnlkA",
        "outputId": "62becccb-6551-4981-d97c-fe01e4f29a3c"
      },
      "execution_count": null,
      "outputs": [
        {
          "output_type": "stream",
          "name": "stdout",
          "text": [
            "apple\n"
          ]
        }
      ]
    },
    {
      "cell_type": "markdown",
      "source": [
        "**7.\tHow do tuples ensure data integrity in Python ?**\n",
        "\n",
        "- In Python, **tuples** ensure data integrity primarily through their **immutability**. This characteristic means that once a tuple is created, its elements cannot be modified, added, or removed. This immutability helps preserve the integrity of the data, making sure it cannot be altered accidentally or intentionally after it's created.\n",
        "\n",
        "- **Immutability (Prevents Modifications) :**\n",
        "   - Once a tuple is created, WE cannot change, add, or remove any elements within the tuple.\n",
        "\n",
        "   - Immutability guarantees that the data will remain consistent throughout the program.\n",
        "   \n",
        "   - **For example**, we can be sure that a tuple containing coordinates or a fixed configuration will not be altered by mistake in other parts of our program."
      ],
      "metadata": {
        "id": "Tph392lv_wyl"
      }
    },
    {
      "cell_type": "code",
      "source": [
        "# EXAMPLE (Tuple's immutability)\n",
        "\n",
        "t = (1, 2, 3)\n",
        "t[0] = 4       # This will raise a TypeError because tuples are immutable"
      ],
      "metadata": {
        "id": "_f2g2LM_pELi"
      },
      "execution_count": null,
      "outputs": []
    },
    {
      "cell_type": "markdown",
      "source": [
        "- **Hashable (Can be Used as Dictionary Keys) :**\n",
        "   - Since tuples are immutable, they are **hashable** (unlike lists). This allows tuples to be used as keys in dictionaries, whereas lists cannot be.\n",
        "\n",
        "   - Being hashable means that the tuple’s data can be used reliably in data structures like dictionaries or sets, where data integrity and uniqueness are crucial."
      ],
      "metadata": {
        "id": "4fevlnX4_wum"
      }
    },
    {
      "cell_type": "code",
      "source": [
        "# EXAMPLE (Tuples are hashable)\n",
        "\n",
        "d = {}\n",
        "t = (1, 2, 3)\n",
        "d[t] = \"Value\"\n",
        "print(d)       # {(1, 2, 3): 'Value'}"
      ],
      "metadata": {
        "colab": {
          "base_uri": "https://localhost:8080/"
        },
        "id": "WaAkuW5rpzHu",
        "outputId": "d5cdcb14-7771-4a43-eddc-a54c906028f5"
      },
      "execution_count": null,
      "outputs": [
        {
          "output_type": "stream",
          "name": "stdout",
          "text": [
            "{(1, 2, 3): 'Value'}\n"
          ]
        }
      ]
    },
    {
      "cell_type": "markdown",
      "source": [
        "- **Prevention of Accidental Changes :**\n",
        "   - **Tuples** provide a way to **\"lock\"** data from unintended changes. In situations where we need to ensure data is constant (such as coordinates, dates, or configuration values), tuples provide a straightforward way to enforce this.\n",
        "\n",
        "   - This is especially useful in cases where certain data should remain fixed throughout the execution of the program, preventing bugs due to accidental modifications."
      ],
      "metadata": {
        "id": "J-RCPSiH_wfH"
      }
    },
    {
      "cell_type": "code",
      "source": [
        "# EXAMPLE (Tuples provide a way to \"lock\" data from unintended changes)\n",
        "\n",
        "coordinates = (40.7128, -74.0060)     # Coordinates of New York\n",
        "coordinates[1] = -75     # Error: Cannot modify a tuple"
      ],
      "metadata": {
        "id": "GsTYlUc3qsHk"
      },
      "execution_count": null,
      "outputs": []
    },
    {
      "cell_type": "markdown",
      "source": [
        "- **Consistency in Function Arguments :**\n",
        "   - **Tuples** are commonly used for returning multiple values from a function and for passing fixed sets of data to functions. This ensures that the data passed around the program is consistent and unchangeable.\n",
        "\n",
        "   - When a tuple is used as a function argument or return value, it ensures that the integrity of the original data is maintained because it can’t be altered by the function or caller."
      ],
      "metadata": {
        "id": "8UtNK8u2rduy"
      }
    },
    {
      "cell_type": "code",
      "source": [
        "# EXAMPLE (Tuple ensures that the data passed around the program is consistent and unchangeable)\n",
        "\n",
        "def get_coordinates():\n",
        "       return (40.7128, -74.0060)\n",
        "\n",
        "coords = get_coordinates()\n",
        "\n",
        "# The returned tuple cannot be modified accidentally"
      ],
      "metadata": {
        "id": "lavMfhctsTuF"
      },
      "execution_count": null,
      "outputs": []
    },
    {
      "cell_type": "markdown",
      "source": [
        "- **Performance :**\n",
        "   - Due to their **immutability**, **tuples** are generally more **memory-efficient** and **faster** than **lists**. This can also be considered an indirect benefit for data integrity, as the reduced memory footprint and faster access contribute to more stable and reliable behavior in large programs."
      ],
      "metadata": {
        "id": "Ya3YAgWx_wKe"
      }
    },
    {
      "cell_type": "code",
      "source": [
        "# EXAMPLE (Tuples are generally more memory-efficient and faster than lists)\n",
        "\n",
        "t = (1, 2, 3)\n",
        "print(t.__sizeof__())     # Outputs memory size of tuple"
      ],
      "metadata": {
        "id": "r7G68rufsp-e",
        "colab": {
          "base_uri": "https://localhost:8080/"
        },
        "outputId": "49bbb392-3dc9-4f55-d5fe-b90a837f1778"
      },
      "execution_count": null,
      "outputs": [
        {
          "output_type": "stream",
          "name": "stdout",
          "text": [
            "48\n"
          ]
        }
      ]
    },
    {
      "cell_type": "markdown",
      "source": [
        "- These qualities make **tuples** a great choice when we need to guarantee the **integrity** and **consistency** of our data throughout the program."
      ],
      "metadata": {
        "id": "otA3ruUD_vKQ"
      }
    },
    {
      "cell_type": "markdown",
      "source": [
        "**8.\tWhat is a hash table, and how does it relate to dictionaries in Python ?**\n",
        "- A **hash table** (or *hash map) is a data structure that provides an efficient way to store and retrieve data, using a mechanism called **hashing** to map keys to values. It allows for fast lookups, insertions, and deletions by converting the key into a **hash code**, which determines the index or location in an internal array where the corresponding value is stored.\n",
        "\n",
        "- **Working process of hash table :**\n",
        " - **Hashing the Key :** When we add a key-value pair to a hash table, the key is passed through a **hash function**. This function generates a hash code (usually a unique integer) for the key, which is then used to compute the index in the hash table's underlying array.\n",
        "   \n",
        "   - **Example :** If the key is \"apple\", the hash function might generate a hash code that maps to index 5 in the array.\n",
        "   \n",
        " - **Storing the Value :** The value associated with the key is stored in the computed index position, making it easy to retrieve later.\n",
        "   \n",
        " - **Handling Collisions :** Since different keys might generate the same hash code (a **collision**), hash tables use strategies to handle these collisions. Common techniques include:\n",
        "\n",
        "   - **Chaining :** Storing multiple elements at the same index in a linked list or other data structure.\n",
        "\n",
        "   - **Open Addressing :** Finding another open spot in the array to store the colliding element.\n",
        "\n",
        " - **Retrieving a Value :** To retrieve a value, the hash table hashes the key again, finds the corresponding index, and returns the value stored at that location.\n",
        "\n",
        "- **Example of Hash Table in action :**\n",
        " - **Insert** : hash(\"apple\") -> index 5 -> store value at index 5.\n",
        " - **Retrieve** : hash(\"apple\") -> index 5 -> return value stored at index 5.\n",
        "\n",
        "- **Relation to Python Dictionaries :**\n",
        " - In Python, **dictionaries** (dict) are implemented using **hash tables**. When we use a dictionary, Python internally uses the following process:\n",
        "\n",
        "   - When we insert a key-value pair into a dictionary, Python applies a hash function to the key, which determines where to store the associated value in the hash table.\n",
        "\n",
        "   - When we access a value via a key, Python hashes the key again, computes the index, and retrieves the corresponding value in constant time, on average.\n",
        "\n",
        "- **Key Features of Python Dictionaries :**\n",
        " - **Efficiency :** Python dictionaries, due to their underlying hash table implementation, provide O(1) average time complexity for lookups, insertions, and deletions, which is extremely fast.\n",
        "\n",
        " - **Handling Collisions :** Python uses a variation of open addressing with **rehashing** to handle collisions, ensuring the dictionary remains efficient even when many keys have the same hash code.\n",
        "\n",
        " - **Unique Keys :** Since dictionary keys are hashed, each key must be **unique**. If we try to add a duplicate key, Python will update the value for that key."
      ],
      "metadata": {
        "id": "kEtNZoJgtd7p"
      }
    },
    {
      "cell_type": "code",
      "source": [
        "# EXAMPLE (Python Dictionary)\n",
        "\n",
        "# Creating a dictionary\n",
        "my_dict = {'apple': 1, 'banana': 2, 'orange': 3}\n",
        "\n",
        "# Accessing a value using a key\n",
        "print(my_dict['apple'])        # Output: 1\n",
        "\n",
        "# Adding a new key-value pair\n",
        "my_dict['pear'] = 4\n",
        "\n",
        "# Updating an existing key\n",
        "my_dict['apple'] = 10\n",
        "\n",
        "# Deleting a key-value pair\n",
        "del my_dict['banana']\n",
        "                               # Output: {'apple': 10, 'orange': 3, 'pear': 4}\n",
        "print(my_dict)"
      ],
      "metadata": {
        "colab": {
          "base_uri": "https://localhost:8080/"
        },
        "id": "LFHqoO6IQ6QV",
        "outputId": "5988886e-968c-4c1f-ed81-ff4ef043ef56"
      },
      "execution_count": null,
      "outputs": [
        {
          "output_type": "stream",
          "name": "stdout",
          "text": [
            "1\n",
            "{'apple': 10, 'orange': 3, 'pear': 4}\n"
          ]
        }
      ]
    },
    {
      "cell_type": "markdown",
      "source": [
        "- **Some reasons to use Hash Tables (Dictionaries),**\n",
        " - **Fast Lookups :** With a hash table, searching for a key is very fast, even with large datasets, since the average time complexity for access is O(1).\n",
        "\n",
        " - **Key-Value Pair Storage :** Hash tables naturally store data as key-value pairs, which is ideal for situations where we want to associate specific pieces of data with a unique identifier (the key).\n",
        "\n",
        " - **Flexibility :** The keys can be immutable types (e.g., strings, numbers, tuples), while the values can be any data type."
      ],
      "metadata": {
        "id": "ISKGLm9xRqLw"
      }
    },
    {
      "cell_type": "markdown",
      "source": [
        "**9.\tCan lists contain different data types in Python ?**\n",
        "- Yes, **lists in Python** can contain **different data types**. A Python **list** is a **heterogeneous** collection, meaning it can hold a mix of various types of elements in a single list."
      ],
      "metadata": {
        "id": "yuzDsvLltdwJ"
      }
    },
    {
      "cell_type": "code",
      "source": [
        "# EXAMPLE (List with different Data Types)\n",
        "\n",
        "my_list = [1, \"apple\", 3.14, True, None]\n",
        "print(my_list)\n",
        "\n",
        "# In the above example, the list contains:\n",
        "                                           # *integer* (1)\n",
        "                                           # *string* (\"apple\")\n",
        "                                           # *float* (3.14)\n",
        "                                           # *boolean* (True)\n",
        "                                           # *NoneType* (None)\n"
      ],
      "metadata": {
        "colab": {
          "base_uri": "https://localhost:8080/"
        },
        "id": "mJ0m-7x9Tbhk",
        "outputId": "04acd775-848c-433f-ed89-ba79c221e1c7"
      },
      "execution_count": null,
      "outputs": [
        {
          "output_type": "stream",
          "name": "stdout",
          "text": [
            "[1, 'apple', 3.14, True, None]\n"
          ]
        }
      ]
    },
    {
      "cell_type": "markdown",
      "source": [
        "- **Lists in Python** are **dynamic** and can store elements of any data type, including other lists, dictionaries, functions, or even custom objects.\n",
        "\n",
        "- Python is a dynamically typed language, meaning we don't need to explicitly declare the types of the elements in a list. This flexibility allows us to mix different data types in the same list.\n",
        "\n",
        "- We use **lists** when we need to store different types of information together, like a mix of numbers, strings, and other objects (e.g., a list of student data).\n",
        "\n",
        "- We use **list** when we might want to create lists of objects, such as a list of dictionaries or a list of tuples."
      ],
      "metadata": {
        "id": "eZgG-RniUnps"
      }
    },
    {
      "cell_type": "code",
      "source": [
        "# EXAMPLE (List with mixed Data Types)\n",
        "\n",
        "data = [42, \"hello\", [1, 2, 3], {'key': 'value'}, 3.14]\n",
        "print(data)\n",
        "\n",
        "# Here, the list contains:\n",
        "                           # integer (42)\n",
        "                           # string (\"hello\")\n",
        "                           # nested list ([1, 2, 3])\n",
        "                           # dictionary ({'key': 'value'})\n",
        "                           # float (3.14)"
      ],
      "metadata": {
        "colab": {
          "base_uri": "https://localhost:8080/"
        },
        "id": "smrarh68VY7j",
        "outputId": "94e32647-d6c9-4d45-8d85-62be5fff5a00"
      },
      "execution_count": null,
      "outputs": [
        {
          "output_type": "stream",
          "name": "stdout",
          "text": [
            "[42, 'hello', [1, 2, 3], {'key': 'value'}, 3.14]\n"
          ]
        }
      ]
    },
    {
      "cell_type": "markdown",
      "source": [
        "**10.\tExplain why strings are immutable in Python.**\n",
        "- In Python, **strings are immutable**, meaning once a string is created, its contents cannot be changed. This immutability is a design choice that offers several advantages in terms of performance, memory efficiency, and security.\n",
        "\n",
        "- **Efficiency with Memory and Performance :**\n",
        " - **Memory Sharing :** When we create a string in Python, it is stored in memory as an immutable object. This means that Python can optimize memory usage by sharing references to the same string rather than creating multiple copies of the same string.\n",
        "\n",
        "    - **For example,** if we create several variables that hold the same string, Python doesn't create multiple copies but rather points to the same memory location."
      ],
      "metadata": {
        "id": "5U8Q2asPtdox"
      }
    },
    {
      "cell_type": "code",
      "source": [
        "# EXAMPLE (Memory Sharing)\n",
        "\n",
        "str1 = \"hello\"\n",
        "str2 = \"hello\"\n",
        "print(id(str1) == id(str2))  # Output: True\n",
        "\n",
        "# In this case, str1 and str2 point to the same memory location because strings are immutable, leading to less memory usage and better performance when working with large numbers of identical strings."
      ],
      "metadata": {
        "colab": {
          "base_uri": "https://localhost:8080/"
        },
        "id": "1ghGXJLqWz6a",
        "outputId": "f89d8175-dfc3-4876-d64b-fffb6a5c7f9b"
      },
      "execution_count": null,
      "outputs": [
        {
          "output_type": "stream",
          "name": "stdout",
          "text": [
            "True\n"
          ]
        }
      ]
    },
    {
      "cell_type": "markdown",
      "source": [
        "-\n",
        " - **Caching :** Python optimizes immutable objects like strings by reusing them, known as **string interning**. When strings are immutable, they can be cached, which improves performance when they are repeatedly used in the program.\n",
        "\n",
        "- **Hashability :**\n",
        "   - **Strings** in Python are **hashable**, meaning they can be used as keys in dictionaries or elements in sets. The immutability of strings ensures that their hash value remains constant throughout their existence. If strings were mutable, modifying a string would change its hash value, which would break the consistency required for dictionaries or sets to function correctly."
      ],
      "metadata": {
        "id": "w90PhvtzXarK"
      }
    },
    {
      "cell_type": "code",
      "source": [
        "# EXAMPLE (Hashability)\n",
        "\n",
        "d = {}\n",
        "key = \"apple\"\n",
        "d[key] = 1\n",
        "print(d)\n",
        "\n",
        "# In this example, if the string \"apple\" could be modified, the hash value would change, and the dictionary could not reliably associate the correct value with the key."
      ],
      "metadata": {
        "colab": {
          "base_uri": "https://localhost:8080/"
        },
        "id": "rktmdjovZmAB",
        "outputId": "93434ceb-d46b-49ad-fb6c-3f21f7664541"
      },
      "execution_count": null,
      "outputs": [
        {
          "output_type": "stream",
          "name": "stdout",
          "text": [
            "{'apple': 1}\n"
          ]
        }
      ]
    },
    {
      "cell_type": "markdown",
      "source": [
        "- **Safety and Security :**\n",
        "   - **Immutability** helps protect data integrity. Once a string is created, it cannot be accidentally altered elsewhere in the program, which reduces the risk of bugs caused by unintended changes. This is especially important in large, complex applications where strings are passed around functions and methods.\n",
        "   \n",
        "  - **For example,** if strings were mutable, we could accidentally change a string inside a function, affecting the program's behavior in ways that are difficult to trace."
      ],
      "metadata": {
        "id": "-mFZRDU0tdhC"
      }
    },
    {
      "cell_type": "code",
      "source": [
        "# EXAMPLE (Safety and Security)\n",
        "\n",
        "def modify_string(s):\n",
        "  s += \" world\"\n",
        "  return s\n",
        "\n",
        "original = \"hello\"\n",
        "modified = modify_string(original)\n",
        "print(original)       # Output: 'hello'\n",
        "print(modified)       # Output: 'hello world'\n",
        "\n",
        "# Here, original remains unchanged because strings are immutable, while modified is a new string."
      ],
      "metadata": {
        "colab": {
          "base_uri": "https://localhost:8080/"
        },
        "id": "43-OO4SjaWO5",
        "outputId": "e5e46275-9d8a-4b2a-95c1-41f860209966"
      },
      "execution_count": null,
      "outputs": [
        {
          "output_type": "stream",
          "name": "stdout",
          "text": [
            "hello\n",
            "hello world\n"
          ]
        }
      ]
    },
    {
      "cell_type": "markdown",
      "source": [
        "- **Consistency in Code :**\n",
        "   - Having strings be immutable leads to **predictable behavior**. We know that once we create a string, it will remain unchanged, which can simplify debugging and reasoning about the code. This consistency is helpful, especially when working with functions, libraries, and frameworks where strings may be passed between different parts of the code.\n",
        "\n",
        "- **String Operations :**\n",
        "   - In Python, many operations that seem to modify a string (such as concatenation or slicing) actually create new strings rather than modifying the original string. This is due to their immutability."
      ],
      "metadata": {
        "id": "GcYcW8glpTUi"
      }
    },
    {
      "cell_type": "code",
      "source": [
        "# EXAMPLE (String Operation)\n",
        "\n",
        "s = \"hello\"\n",
        "s += \" world\"\n",
        "print(s)      # Output: \"hello world\"\n",
        "\n",
        "# In this example, s += \" world\" does not modify the original string \"hello\", but instead creates a new string \"hello world\", and assigns it to s. The original string \"hello\" remains unchanged in memory."
      ],
      "metadata": {
        "colab": {
          "base_uri": "https://localhost:8080/"
        },
        "id": "xR7LDp2DpwbZ",
        "outputId": "b4061967-433f-46b8-e8c9-0b87e8558085"
      },
      "execution_count": null,
      "outputs": [
        {
          "output_type": "stream",
          "name": "stdout",
          "text": [
            "hello world\n"
          ]
        }
      ]
    },
    {
      "cell_type": "markdown",
      "source": [
        "- **Implementation Details :**\n",
        "   - The decision to make strings immutable aligns with the implementation details of Python's memory management and internal optimizations. Immutable objects are easier to share, cache, and compare. Making strings immutable also makes Python's memory management and garbage collection processes more efficient.\n",
        "\n",
        "- In short, **Strings are immutable in Python** for several key reasons :\n",
        "\n",
        " - **Memory efficiency :** Strings can be reused and shared, reducing memory consumption.\n",
        "\n",
        " - **Hashability :** Their immutability ensures that they maintain a constant hash value, making them reliable as dictionary keys and set elements.\n",
        "\n",
        " - **Data integrity :** Immutability prevents accidental modification of strings, ensuring data integrity and reducing the chance of bugs.\n",
        "\n",
        " - **Predictable behavior :** It makes string operations safer and more consistent, especially in larger applications.\n",
        "\n",
        " - **Internal optimization :** Immutability makes Python's memory and performance optimizations more effective.\n",
        "\n",
        "- In essence, the immutability of strings in Python is a deliberate design choice that optimizes performance, promotes safe coding practices, and ensures reliable behavior across the language."
      ],
      "metadata": {
        "id": "uQhMKQSoqMgX"
      }
    },
    {
      "cell_type": "markdown",
      "source": [
        "**11.\tWhat advantages do dictionaries offer over lists for certain tasks ?**\n",
        "- Dictionaries offer several significant advantages over lists for certain tasks, primarily due to their underlying data structure (hash tables) and the way they handle key-value pairs.\n",
        "\n",
        "- Here are the key advantages of using dictionaries over lists in Python:\n",
        "\n",
        " - **Fast Lookups by Key (O(1) Average Time Complexity) :**\n",
        "   - **Dictionaries :** In a dictionary, we can access a value by its key in constant time, on average (O(1)). This is because Python uses a **hash table** internally, which allows it to map keys directly to their corresponding values.\n",
        "\n",
        "   - **Lists :** In a list, we need to iterate through the elements to find a specific value, which takes linear time (O(n)) on average.\n",
        "\n",
        "   - **Use case :** If we need to quickly retrieve values based on specific identifiers (like looking up an employee's name based on their employee ID), dictionaries are far more efficient than lists."
      ],
      "metadata": {
        "id": "3RKNqtWjtdZa"
      }
    },
    {
      "cell_type": "code",
      "source": [
        "# EXAMPLE\n",
        "\n",
        "# Dictionary lookup\n",
        "my_dict = {'apple': 1, 'banana': 2, 'cherry': 3}\n",
        "print(my_dict['banana'])           # Output: 2\n",
        "\n",
        "# List lookup (slower)\n",
        "my_list = ['apple', 'banana', 'cherry']\n",
        "print(my_list.index('banana'))     # Output: 1, but it's O(n)"
      ],
      "metadata": {
        "colab": {
          "base_uri": "https://localhost:8080/"
        },
        "id": "Hozx_ftKrvu4",
        "outputId": "c7918cfb-9004-40db-f89b-ec9d13a69b35"
      },
      "execution_count": null,
      "outputs": [
        {
          "output_type": "stream",
          "name": "stdout",
          "text": [
            "2\n",
            "1\n"
          ]
        }
      ]
    },
    {
      "cell_type": "markdown",
      "source": [
        "- - **Associating Data with Unique Keys (Key-Value Pairs) :**\n",
        "   - **Dictionaries :** We can associate data with a **unique key**, which is useful when we need to map a value to a specific identifier. This allows us to model relationships where each key (e.g., an ID, name, or label) corresponds to a specific piece of data (e.g., age, score, address).\n",
        "\n",
        "   - **Lists :** Lists don’t have an explicit key-value structure; we can only access elements based on their index (which is an integer). If we need to associate data with unique identifiers, lists are not suitable.\n",
        "\n",
        "   - **Use case :** When we need to store data like a user’s profile (e.g., username -> user details), dictionaries are ideal because we can use usernames as keys."
      ],
      "metadata": {
        "id": "LzE57_MVsvPv"
      }
    },
    {
      "cell_type": "code",
      "source": [
        "# EXAMPLE\n",
        "\n",
        "# Dictionary with key-value pairs\n",
        "user_data = {'john': {'age': 30, 'city': 'New York'}, 'alice': {'age': 25, 'city': 'London'}}\n",
        "print(user_data['john'])         # Output: {'age': 30, 'city': 'New York'}\n",
        "\n",
        "# List cannot easily model key-value relationships"
      ],
      "metadata": {
        "colab": {
          "base_uri": "https://localhost:8080/"
        },
        "id": "6rEmrUDVtbcH",
        "outputId": "48c49a39-dd59-4ba3-c889-da66b473d645"
      },
      "execution_count": null,
      "outputs": [
        {
          "output_type": "stream",
          "name": "stdout",
          "text": [
            "{'age': 30, 'city': 'New York'}\n"
          ]
        }
      ]
    },
    {
      "cell_type": "markdown",
      "source": [
        "- - **Efficient Insertions and Deletions (O(1) Average Time Complexity) :**\n",
        "   - **Dictionaries :** Inserting, updating, or deleting key-value pairs in a dictionary typically happens in constant time, on average (O(1)). This makes dictionaries very efficient for dynamically adding or removing data.\n",
        "\n",
        "   - **Lists :** While appending to the end of a list is O(1), inserting or deleting elements in the middle of a list requires shifting elements, which takes O(n) time. Similarly, removing an element by value requires searching for it first (O(n)).\n",
        "\n",
        "   - **Use case :** If we need to frequently add, remove, or update data using a unique identifier, dictionaries are more efficient than lists."
      ],
      "metadata": {
        "id": "9T1GmFiPtsaf"
      }
    },
    {
      "cell_type": "code",
      "source": [
        "# EXAMPLE\n",
        "\n",
        "# Dictionary insert/update\n",
        "my_dict = {'apple': 1, 'banana': 2}\n",
        "my_dict['cherry'] = 3     # O(1)\n",
        "del my_dict['banana']     # O(1)\n",
        "\n",
        "# List insert/remove (slower)\n",
        "my_list = ['apple', 'banana']\n",
        "my_list.append('cherry')  # O(1)\n",
        "my_list.remove('banana')  # O(n) because it needs to search for the element"
      ],
      "metadata": {
        "id": "hnIVvUU3uFQ2"
      },
      "execution_count": null,
      "outputs": []
    },
    {
      "cell_type": "markdown",
      "source": [
        "- - **No Duplicate Keys :**\n",
        "   - **Dictionaries :** Each key in a dictionary must be **unique**. If we try to insert a new key-value pair with a key that already exists, the old value is overwritten by the new value.\n",
        "\n",
        "   - **Lists :** Lists allow **duplicate values**, which can lead to confusion if we want to maintain unique elements.\n",
        "\n",
        "   - **Use case :** If we want to store a set of unique items where we can update their associated data efficiently, dictionaries are a better choice."
      ],
      "metadata": {
        "id": "EBKsh5j_tdRJ"
      }
    },
    {
      "cell_type": "code",
      "source": [
        "# EXAMPLE\n",
        "\n",
        "# Dictionary with unique keys\n",
        "my_dict = {'apple': 1, 'banana': 2}\n",
        "my_dict['apple'] = 10        # Overwrites the old value of 'apple'\n",
        "print(my_dict)               # Output: {'apple': 10, 'banana': 2}\n",
        "\n",
        "# List allows duplicates\n",
        "my_list = ['apple', 'banana', 'apple']\n",
        "print(my_list)               # Output: ['apple', 'banana', 'apple']"
      ],
      "metadata": {
        "colab": {
          "base_uri": "https://localhost:8080/"
        },
        "id": "NsMj44lbu4mW",
        "outputId": "9a22abde-7c23-426e-e837-531a5ac6fafd"
      },
      "execution_count": null,
      "outputs": [
        {
          "output_type": "stream",
          "name": "stdout",
          "text": [
            "{'apple': 10, 'banana': 2}\n",
            "['apple', 'banana', 'apple']\n"
          ]
        }
      ]
    },
    {
      "cell_type": "markdown",
      "source": [
        "- - **Key Lookup for Membership Testing :**\n",
        "   - **Dictionaries :** We can quickly check if a key exists in a dictionary using the in keyword. This operation is very fast because the dictionary uses a hash table.\n",
        "\n",
        "   - **Lists :** Checking for membership (e.g., if value in list) in a list requires scanning through all the elements, which takes linear time (O(n)).\n",
        "\n",
        "   - **Use case :** When we need to frequently check for the presence of a key or identifier, dictionaries are much faster."
      ],
      "metadata": {
        "id": "JeLOr22JvNgF"
      }
    },
    {
      "cell_type": "code",
      "source": [
        "# EXAMPLE\n",
        "\n",
        "# Dictionary membership check\n",
        "my_dict = {'apple': 1, 'banana': 2}\n",
        "print('apple' in my_dict)           # Output: True (O(1) lookup)\n",
        "\n",
        "# List membership check (slower)\n",
        "my_list = ['apple', 'banana']\n",
        "print('apple' in my_list)           # Output: True (O(n) lookup)"
      ],
      "metadata": {
        "colab": {
          "base_uri": "https://localhost:8080/"
        },
        "id": "-XCQiCdvvoke",
        "outputId": "3403487d-54d8-4975-ccf8-47c668604183"
      },
      "execution_count": null,
      "outputs": [
        {
          "output_type": "stream",
          "name": "stdout",
          "text": [
            "True\n",
            "True\n"
          ]
        }
      ]
    },
    {
      "cell_type": "markdown",
      "source": [
        "- - **Handling Complex Data Structures :**\n",
        "   - **Dictionaries :** Dictionaries can hold other dictionaries, lists, or even complex objects as values, making them ideal for modeling more complex, nested data structures. This allows us to represent real-world relationships or data hierarchies effectively.\n",
        "\n",
        "   - **Lists :** While lists can hold complex data (including dictionaries and other lists), they don't provide the same clarity or efficiency when associating data with unique keys.\n",
        "\n",
        "   - **Use case :** When we need to model relationships or store nested data (e.g., a list of users where each user has a name, age, and address), dictionaries make the data structure clearer and more accessible."
      ],
      "metadata": {
        "id": "5VpvY0LTv459"
      }
    },
    {
      "cell_type": "code",
      "source": [
        "# EXAMPLE\n",
        "\n",
        "# Dictionary with nested structures\n",
        "users = {\n",
        "       'john': {'age': 30, 'address': 'New York'},\n",
        "       'alice': {'age': 25, 'address': 'London'}\n",
        "}\n",
        "print(users['john']['age'])          # Output: 30\n",
        "\n",
        "# Using a list for nested data is more cumbersome"
      ],
      "metadata": {
        "colab": {
          "base_uri": "https://localhost:8080/"
        },
        "id": "mwzAlgs4xdIm",
        "outputId": "c321d7eb-386f-4851-a14d-d5162a440e39"
      },
      "execution_count": null,
      "outputs": [
        {
          "output_type": "stream",
          "name": "stdout",
          "text": [
            "30\n"
          ]
        }
      ]
    },
    {
      "cell_type": "markdown",
      "source": [
        "- - **Better for Representing Real-World Data Relationships :**\n",
        "   - **Dictionaries :** Dictionaries are excellent for representing relationships between pieces of data, where we want to map one entity (the key) to another entity (the value). This makes them a natural choice for tasks like modeling user profiles, student records, or configuration settings.\n",
        "\n",
        "   - **Lists :** Lists are better suited for ordered collections of items, where the position of each element matters, but they aren't as intuitive for modeling key-value relationships.\n",
        "\n",
        "   - **Use case :** If e want to model a student's record where we need to associate their **name** with **grades** or **other data**, dictionaries work better than lists."
      ],
      "metadata": {
        "id": "6nhVgdfox9JF"
      }
    },
    {
      "cell_type": "code",
      "source": [
        "# EXAMPLE\n",
        "\n",
        "# Dictionary with key-value relationships\n",
        "student_records = {'john': {'math': 90, 'science': 85}, 'alice': {'math': 88, 'science': 92}}"
      ],
      "metadata": {
        "id": "T3DdqrNkx-MT"
      },
      "execution_count": null,
      "outputs": []
    },
    {
      "cell_type": "markdown",
      "source": [
        "- In short, **dictionaries** are the best choice when we need efficient key-based access, unique keys, and the ability to store complex data. **Lists** are more appropriate when we need an ordered collection of items or when the order of elements matters."
      ],
      "metadata": {
        "id": "CGv8D7ljyKhj"
      }
    },
    {
      "cell_type": "markdown",
      "source": [
        "**12.\tDescribe a scenario where using a tuple would be preferable over a list.**\n",
        "- A **tuple** would be preferable over a **list** in scenarios where we need **immutability** (data integrity), **faster access**, or to model **fixed, ordered collections** of values that should not change.\n",
        "\n",
        "- **Scenario : Storing Coordinates or Points on a Map**\n",
        "\n",
        " - Imagine we're building a system that handles geographical data, such as mapping points (latitude, longitude) on a map.\n",
        "\n",
        "- **Reasons why Tuples are Preferable :**\n",
        " - **Immutability (Data Integrity) :** Coordinates (latitude, longitude) represent a fixed position that should not change once defined. Using a tuple ensures that the data cannot be accidentally modified.\n",
        "   \n",
        "   - **For example,** once a location’s coordinates are set, you don't want the system to inadvertently modify them.\n",
        "\n",
        " - **Efficiency :** Tuples are more **memory efficient** and have a **faster access time** compared to lists. Since the coordinates are unlikely to change, using a tuple minimizes memory overhead and provides faster access to the values.\n",
        "\n",
        " - **Semantic Meaning :** Tuples represent **fixed collections of items**. When using a tuple to represent coordinates, it is semantically clear that the number of elements in the tuple (2, in this case) will always remain constant, reinforcing the idea that the collection represents an immutable, fixed entity.\n",
        "\n",
        " - **Hashability :** Tuples are **hashable** (since they are immutable), meaning they can be used as keys in dictionaries or stored in sets, which could be useful if you need to use the coordinates as a unique identifier."
      ],
      "metadata": {
        "id": "3wCYaS-ad-Zk"
      }
    },
    {
      "cell_type": "code",
      "source": [
        "# Scenario : Storing Coordinates or Points on a Map\n",
        "\n",
        "# Storing coordinates as a tuple\n",
        "location = (40.7128, -74.0060)    # Latitude and Longitude for New York City\n",
        "\n",
        "# Accessing the values\n",
        "latitude = location[0]\n",
        "longitude = location[1]\n",
        "\n",
        "# Attempting to modify the tuple would raise an error (since tuples are immutable)\n",
        "\n",
        "location[0] = 41.0    # This will raise a TypeError\n",
        "\n",
        "print(f\"Latitude: {latitude}, Longitude: {longitude}\")"
      ],
      "metadata": {
        "id": "QNnKRczbfXIe"
      },
      "execution_count": null,
      "outputs": []
    },
    {
      "cell_type": "markdown",
      "source": [
        "- **In this case :**\n",
        " - **Immutability** ensures that the coordinates cannot be accidentally changed after they are set.\n",
        "\n",
        " - **Efficiency** makes it faster and less memory-intensive to store the coordinates.\n",
        "\n",
        " - **Semantic clarity** makes it clear that the coordinates represent a fixed, unchanging pair of values.\n",
        "\n",
        "- **Some real-world use cases for Tuples :**\n",
        " - **Function Returns :** When a function returns multiple related values, such as (latitude, longitude) or (x, y, z) in 3D space, tuples are ideal because they signal the fixed nature of the values.\n",
        "\n",
        " - **Database Records :** Tuples can represent fixed records in a database, such as a person's name, age, and address, where the data should remain unchanged during the process.\n",
        "\n",
        " - **Configuration Settings :** A tuple might represent a fixed configuration, such as (width, height) for a screen resolution, where these values shouldn't change throughout the execution.\n",
        "\n",
        "- In short, **tuples** are preferable over **lists** in situations where you need a **fixed, immutable collection of values** that should not change during the program's execution, like when dealing with **geographical coordinates, function return values, or constant configuration settings**."
      ],
      "metadata": {
        "id": "IQHOAghZfxV6"
      }
    },
    {
      "cell_type": "markdown",
      "source": [
        "**13.\tHow do sets handle duplicate values in Python ?**\n",
        "- In Python, **sets** automatically handle duplicate values by **removing them**.\n",
        "\n",
        "- A **set** is an unordered collection of unique elements, meaning it **does not allow duplicates**.\n",
        "\n",
        "- If we try to add a duplicate element to a set, it will simply ignore the duplicate and keep the original element.\n",
        "\n",
        "- **Key Characteristics of Sets Regarding Duplicates :**\n",
        " - **Unique Elements :** A set can only contain one instance of each unique value. If we try to add a duplicate element, the set will maintain only the first occurrence of that element.\n",
        "\n",
        " - **Unordered :** Sets are **unordered** collections, meaning they do not maintain the order of elements as we insert them. The internal representation of the set does not guarantee that the elements will be stored in the same order as they were added."
      ],
      "metadata": {
        "id": "YVtAOi2-d-Vu"
      }
    },
    {
      "cell_type": "code",
      "source": [
        "# EXAMPLE (How Sets handle Duplicates)\n",
        "\n",
        "# Creating a set with duplicate values\n",
        "my_set = {1, 2, 2, 3, 4, 4, 5}\n",
        "\n",
        "# Printing the set\n",
        "print(my_set)       # Output : {1, 2, 3, 4, 5}"
      ],
      "metadata": {
        "colab": {
          "base_uri": "https://localhost:8080/"
        },
        "id": "mtz9pUUuh52N",
        "outputId": "e29de493-d374-4081-aa4e-1612ecb46695"
      },
      "execution_count": null,
      "outputs": [
        {
          "output_type": "stream",
          "name": "stdout",
          "text": [
            "{1, 2, 3, 4, 5}\n"
          ]
        }
      ]
    },
    {
      "cell_type": "markdown",
      "source": [
        "- The **set** automatically removes the duplicate 2 and 4, leaving only one occurrence of each unique value.\n",
        "\n",
        "- Even though we added the same values twice, the set ensures that each element appears only once.\n",
        "\n",
        "- **Adding and Handling Duplicates :**\n",
        " - When we add a new element to an existing set, Python checks whether that element is already present.\n",
        "\n",
        " - If the element **is not in the set**, it gets **added**.\n",
        "\n",
        " - If the element **is already in the set**, it is **ignored**.\n"
      ],
      "metadata": {
        "id": "i0f1pQ0Xiaz2"
      }
    },
    {
      "cell_type": "code",
      "source": [
        "# EXAMPLE (Adding and Handling Duplicates)\n",
        "\n",
        "my_set = {1, 2, 3}\n",
        "\n",
        "# Adding a duplicate value\n",
        "my_set.add(2)\n",
        "\n",
        "# Adding a unique value\n",
        "my_set.add(4)\n",
        "\n",
        "print(my_set)    # Output : {1, 2, 3, 4}\n",
        "\n",
        "# The element 2 is ignored because it already exists in the set.\n",
        "# The element 4 is added since it's not already in the set."
      ],
      "metadata": {
        "colab": {
          "base_uri": "https://localhost:8080/"
        },
        "id": "E7xLkzkMilEx",
        "outputId": "ab1b74d5-d0df-476d-dd2a-9d0834227b68"
      },
      "execution_count": null,
      "outputs": [
        {
          "output_type": "stream",
          "name": "stdout",
          "text": [
            "{1, 2, 3, 4}\n"
          ]
        }
      ]
    },
    {
      "cell_type": "markdown",
      "source": [
        "- This behavior of **Set** is especially helpful when we need to work with **collections of unique elements** and want to **avoid manually checking for duplicates**."
      ],
      "metadata": {
        "id": "SIPS7Ua1io0d"
      }
    },
    {
      "cell_type": "markdown",
      "source": [
        "**14.\tHow does the “in” keyword work differently for lists and dictionaries ?**\n",
        "- The **in** keyword in Python is used to check for membership, but it behaves differently for **lists** and **dictionaries** due to the way these data structures are organized.\n",
        "\n",
        "- **in with Lists :**\n",
        " - When used with a **list**, the **in** keyword checks whether a specific **element** exists in the list. It performs a linear search, meaning it checks each item in the list one by one until it finds a match.\n",
        "\n",
        " - **Time Complexity :** The time complexity of using **in** with a list is **O(n)**, where **n** is the length of the list, because it may need to check every element in the list to find the target element."
      ],
      "metadata": {
        "id": "F_rT6IaokGcl"
      }
    },
    {
      "cell_type": "code",
      "source": [
        "# EXAMPLE (in with Lists):\n",
        "\n",
        "my_list = [1, 2, 3, 4, 5]\n",
        "\n",
        "# Checking if a value exists in the list\n",
        "print(3 in my_list)         # Output: True\n",
        "print(6 in my_list)         # Output: False\n",
        "\n",
        "# In this case:\n",
        "   # The first check (3 in my_list) returns True because 3 is in the list.\n",
        "   # The second check (6 in my_list) returns False because 6 is not in the list."
      ],
      "metadata": {
        "colab": {
          "base_uri": "https://localhost:8080/"
        },
        "id": "TfVOVdjfkvx8",
        "outputId": "49bfe68c-7c67-4813-ae23-cdca4503c218"
      },
      "execution_count": null,
      "outputs": [
        {
          "output_type": "stream",
          "name": "stdout",
          "text": [
            "True\n",
            "False\n"
          ]
        }
      ]
    },
    {
      "cell_type": "markdown",
      "source": [
        "- **in with Dictionaries :**\n",
        " - When used with a **dictionary**, the **in** keyword checks for **keys**, not values. It checks whether a specific key exists in the dictionary's keys, not the associated value.\n",
        "\n",
        " - **Time Complexity :** The time complexity of using in with a dictionary is **O(1)**, meaning the check happens in constant time, thanks to the underlying **hash table** used by dictionaries."
      ],
      "metadata": {
        "id": "wEE1rRBqlB9N"
      }
    },
    {
      "cell_type": "code",
      "source": [
        "# EXAMPLE (in with Dictionaries)\n",
        "\n",
        "my_dict = {'apple': 1, 'banana': 2, 'cherry': 3}\n",
        "\n",
        "# Checking if a key exists in the dictionary\n",
        "print('banana' in my_dict)          # Output: True\n",
        "print('orange' in my_dict)          # Output: False\n",
        "\n",
        "\n",
        "# In this case:\n",
        "   # The first check ('banana' in my_dict) returns True because 'banana' is a key in the dictionary.\n",
        "   # The second check ('orange' in my_dict) returns False because 'orange' is not a key in the dictionary\n"
      ],
      "metadata": {
        "colab": {
          "base_uri": "https://localhost:8080/"
        },
        "id": "1zANb-mKl_Y1",
        "outputId": "62bc89f3-60d7-4937-d0c2-561ee4623c40"
      },
      "execution_count": null,
      "outputs": [
        {
          "output_type": "stream",
          "name": "stdout",
          "text": [
            "True\n",
            "False\n"
          ]
        }
      ]
    },
    {
      "cell_type": "markdown",
      "source": [
        "- **Checking for Values in Dictionaries :**\n",
        " - If we want to check whether a **value** exists in a dictionary, we need to explicitly check the **values** with the **.values()** method:"
      ],
      "metadata": {
        "id": "FuwZxV54maHL"
      }
    },
    {
      "cell_type": "code",
      "source": [
        "print(2 in my_dict.values())      # Output: True\n",
        "print(4 in my_dict.values())      # Output: False"
      ],
      "metadata": {
        "colab": {
          "base_uri": "https://localhost:8080/"
        },
        "id": "R7nGX5J1mqhL",
        "outputId": "13b417c3-4c54-4c6e-fb47-db153aa38cda"
      },
      "execution_count": null,
      "outputs": [
        {
          "output_type": "stream",
          "name": "stdout",
          "text": [
            "True\n",
            "False\n"
          ]
        }
      ]
    },
    {
      "cell_type": "markdown",
      "source": [
        "- In short,\n",
        " - With a **list**, the in keyword checks for the presence of an element and works by scanning through the entire list.\n",
        "\n",
        " - With a **dictionary**, the **in** keyword checks if a **key** exists in the dictionary, which is a very fast operation due to the hash table structure."
      ],
      "metadata": {
        "id": "fHRZkDtrd-Rl"
      }
    },
    {
      "cell_type": "markdown",
      "source": [
        "**15.\tCan you modify the elements of a tuple? Explain why or why not.**\n",
        "- No, we **cannot modify the elements** of a **tuple** in Python. This is because **tuples are immutable** objects.\n",
        "\n",
        "- **The reasons why cann't we modify a Tuple are :**\n",
        " - **Immutability :**\n",
        "   - A **tuple** is an immutable sequence, meaning once it is created, its **contents cannot be changed**. We cannot add, remove, or modify the elements inside a tuple.\n",
        "\n",
        "   - This immutability provides several benefits, such as making tuples more memory-efficient and hashable, and ensuring data integrity when used as keys in dictionaries or as elements in sets.\n",
        "\n",
        " - **No Item Assignment :**\n",
        "   - If we attempt to modify an element of a tuple by assigning a new value to a specific index, Python will raise a **TypeError**."
      ],
      "metadata": {
        "id": "xDpQlWbLd-Ge"
      }
    },
    {
      "cell_type": "code",
      "source": [
        "# EXAMPLE (Trying to Modify a Tuple)\n",
        "\n",
        "my_tuple = (1, 2, 3, 4)\n",
        "\n",
        "# Attempting to modify an element (raises error)\n",
        "my_tuple[0] = 10           # This will raise TypeError\n",
        "\n",
        "# Output : TypeError: 'tuple' object does not support item assignment\n",
        "\n",
        "# In this example, trying to change the value of my_tuple[0] raises a TypeError because tuples do not allow item assignment."
      ],
      "metadata": {
        "id": "HLESidjKJdA9"
      },
      "execution_count": null,
      "outputs": []
    },
    {
      "cell_type": "markdown",
      "source": [
        "**- The reasons why Tuples are Immutable :**\n",
        " - **Hashability :**\n",
        "   - Since tuples are **immutable**, they are **hashable** and can be used as keys in dictionaries or stored in sets. The hash value of an object is based on its contents, and if the contents of a tuple could change, its hash value would change, which would break the behavior of hash-based data structures.\n",
        "\n",
        " - **Performance :**\n",
        "   - Immutability allows Python to optimize memory usage and access speed for tuples. When a tuple is created, Python can optimize its storage and make it more efficient than a list, which requires more memory overhead to support dynamic resizing and mutability.\n",
        "\n",
        " - **Safety and Integrity :**\n",
        "   - Immutability ensures that once data is stored in a tuple, it cannot be changed accidentally, which helps maintain data integrity. This is useful in scenarios where we want to ensure that the values do not get modified unintentionally, such as when passing data across different parts of a program or storing constant values.\n",
        "\n",
        "- **Tuples can be preferred in these following cases :**\n",
        " - **Access elements :** We can access tuple elements using indexing or slicing."
      ],
      "metadata": {
        "id": "cxrV4Ow1J4oz"
      }
    },
    {
      "cell_type": "code",
      "source": [
        "# EXAMPLE (Access elements)\n",
        "\n",
        "my_tuple = (1, 2, 3, 4)\n",
        "print(my_tuple[2])       # Output: 3"
      ],
      "metadata": {
        "colab": {
          "base_uri": "https://localhost:8080/"
        },
        "id": "jSjowdoSLCky",
        "outputId": "91d49f59-f98c-4228-e5c8-73d487fe3b08"
      },
      "execution_count": null,
      "outputs": [
        {
          "output_type": "stream",
          "name": "stdout",
          "text": [
            "3\n"
          ]
        }
      ]
    },
    {
      "cell_type": "markdown",
      "source": [
        "- - **Concatenate :** We can concatenate tuples to create new tuples."
      ],
      "metadata": {
        "id": "cAHo6LX4d9zO"
      }
    },
    {
      "cell_type": "code",
      "source": [
        "# EXAMPLE (Concatenate)\n",
        "\n",
        "tuple1 = (1, 2)\n",
        "tuple2 = (3, 4)\n",
        "new_tuple = tuple1 + tuple2\n",
        "print(new_tuple)         # Output: (1, 2, 3, 4)"
      ],
      "metadata": {
        "colab": {
          "base_uri": "https://localhost:8080/"
        },
        "id": "KkbE2zHMMJyL",
        "outputId": "df4f01b3-b07e-4135-b8ab-ae258e938bcb"
      },
      "execution_count": null,
      "outputs": [
        {
          "output_type": "stream",
          "name": "stdout",
          "text": [
            "(1, 2, 3, 4)\n"
          ]
        }
      ]
    },
    {
      "cell_type": "markdown",
      "source": [
        "- - **Reassign Entire Tuple :** While we cannot modify individual elements of a tuple, we can reassign the entire tuple to a new one."
      ],
      "metadata": {
        "id": "-LeZcRLnMc8r"
      }
    },
    {
      "cell_type": "code",
      "source": [
        "# EXAMPLE (Reassign Entire Tuple)\n",
        "\n",
        "my_tuple = (1, 2, 3)\n",
        "my_tuple = (4, 5, 6)     # Reassigning the entire tuple\n",
        "print(my_tuple)          # Output: (4, 5, 6)"
      ],
      "metadata": {
        "colab": {
          "base_uri": "https://localhost:8080/"
        },
        "id": "G3cXo5u9Mlsg",
        "outputId": "030ec6dc-0b7e-4fa9-ddec-82ea2f088bb6"
      },
      "execution_count": null,
      "outputs": [
        {
          "output_type": "stream",
          "name": "stdout",
          "text": [
            "(4, 5, 6)\n"
          ]
        }
      ]
    },
    {
      "cell_type": "markdown",
      "source": [
        "- In short,\n",
        " - **Tuples are immutable**, meaning we cannot modify their elements after they are created. This is in contrast to **lists**, which are mutable and allow modifications to their contents.\n",
        "\n",
        " - The immutability of tuples offers advantages in terms of **data integrity**, **performance**, and **hashability**, making them ideal for storing fixed collections of values that shouldn't change."
      ],
      "metadata": {
        "id": "WtSAcw7ZM1Uq"
      }
    },
    {
      "cell_type": "markdown",
      "source": [
        "**16.\tWhat is a nested dictionary, and give an example of its use case ?**\n",
        "- A **nested dictionary** in Python refers to a dictionary where the values themselves are dictionaries.\n",
        "\n",
        "- In other words, a dictionary can contain other dictionaries as values, creating a multi-level structure. This is useful when we need to store and organize complex, hierarchical data.\n",
        "\n",
        "- **Structure of a Nested Dictionary :**\n",
        " - The outer dictionary contains **keys** that map to **inner dictionaries**.\n",
        "\n",
        " - Each inner dictionary can have its own keys and values, and they can be nested to any depth.\n",
        "\n",
        "- **Example of a Nested Dictionary :**\n",
        " - Consider a scenario where we want to store information about multiple employees in a company, and each employee has details such as their name, age, department, and contact information. A nested dictionary would be a good choice for organizing this data."
      ],
      "metadata": {
        "id": "J7aqoE6aNaTC"
      }
    },
    {
      "cell_type": "code",
      "source": [
        "# Nested dictionary representing employee details\n",
        "\n",
        "employees = {\n",
        "    'emp001': {\n",
        "        'name': 'John Doe',\n",
        "        'age': 28,\n",
        "        'department': 'HR',\n",
        "        'contact': {'email': 'john.doe@example.com', 'phone': '123-456-7890'}\n",
        "    },\n",
        "    'emp002': {\n",
        "        'name': 'Alice Smith',\n",
        "        'age': 34,\n",
        "        'department': 'Finance',\n",
        "        'contact': {'email': 'alice.smith@example.com', 'phone': '234-567-8901'}\n",
        "    },\n",
        "    'emp003': {\n",
        "        'name': 'Bob Johnson',\n",
        "        'age': 40,\n",
        "        'department': 'Engineering',\n",
        "        'contact': {'email': 'bob.johnson@example.com', 'phone': '345-678-9012'}\n",
        "    }\n",
        "}\n",
        "\n",
        "# Accessing data from the nested dictionary\n",
        "print(employees['emp001']['name'])                   # Output: John Doe\n",
        "print(employees['emp002']['contact']['email'])       # Output: alice.smith@example.com"
      ],
      "metadata": {
        "colab": {
          "base_uri": "https://localhost:8080/"
        },
        "id": "lozGdtXIN9oK",
        "outputId": "367a2717-1066-47db-f562-088016391df0"
      },
      "execution_count": null,
      "outputs": [
        {
          "output_type": "stream",
          "name": "stdout",
          "text": [
            "John Doe\n",
            "alice.smith@example.com\n"
          ]
        }
      ]
    },
    {
      "cell_type": "markdown",
      "source": [
        "- - The **outer dictionary** **(employees)** maps each employee ID (e.g., **'emp001'**) to an **inner dictionary** containing **their details**.\n",
        "\n",
        " - Inside each employee's dictionary, there are additional keys like **'name', 'age', and 'department'**.\n",
        "\n",
        " - The **'contact'** key in each employee's dictionary holds yet another dictionary that contains the **email** and **phone number**."
      ],
      "metadata": {
        "id": "UnZPlAU-OWxi"
      }
    },
    {
      "cell_type": "markdown",
      "source": [
        "- **Use Case for a Nested Dictionary :**\n",
        "\n",
        " - **Scenario :** Storing **student records** in a school system, where each student has multiple attributes (e.g., **name, age, and a list of subjects**), and each **subject** has its **own grades**."
      ],
      "metadata": {
        "id": "OZX1gXUNO6dq"
      }
    },
    {
      "cell_type": "code",
      "source": [
        "# Nested dictionary representing student records\n",
        "\n",
        "students = {\n",
        "    'student001': {\n",
        "        'name': 'Sarah Lee',\n",
        "        'age': 18,\n",
        "        'subjects': {\n",
        "            'Math': {'grade': 'A', 'teacher': 'Mr. Smith'},\n",
        "            'History': {'grade': 'B+', 'teacher': 'Mrs. Johnson'},\n",
        "            'Biology': {'grade': 'A-', 'teacher': 'Dr. Williams'}\n",
        "        }\n",
        "    },\n",
        "    'student002': {\n",
        "        'name': 'Michael Brown',\n",
        "        'age': 17,\n",
        "        'subjects': {\n",
        "            'Math': {'grade': 'B', 'teacher': 'Mr. Smith'},\n",
        "            'History': {'grade': 'A', 'teacher': 'Mrs. Johnson'},\n",
        "            'Biology': {'grade': 'B-', 'teacher': 'Dr. Williams'}\n",
        "        }\n",
        "    }\n",
        "}\n",
        "\n",
        "# Accessing student information\n",
        "print(students['student001']['name'])   # Output: Sarah Lee\n",
        "print(students['student001']['subjects']['Math']['grade'])   # Output: A\n",
        "print(students['student002']['subjects']['Biology']['teacher'])    # Output: Dr. Williams"
      ],
      "metadata": {
        "colab": {
          "base_uri": "https://localhost:8080/"
        },
        "id": "S3ftfoBvPU3R",
        "outputId": "dc267351-9daf-4595-cfb6-6f2e73d42237"
      },
      "execution_count": null,
      "outputs": [
        {
          "output_type": "stream",
          "name": "stdout",
          "text": [
            "Sarah Lee\n",
            "A\n",
            "Dr. Williams\n"
          ]
        }
      ]
    },
    {
      "cell_type": "markdown",
      "source": [
        "- **Key Benefits of using a Nested Dictionary :**\n",
        " - **Organization of Hierarchical Data :** Nested dictionaries allow us to store complex, hierarchical data in a well-organized manner, such as employee details or student grades.\n",
        "\n",
        " - ***Efficient Access :** We can access deeply nested data using multiple keys, which makes it easy to retrieve specific pieces of information.\n",
        "\n",
        " - **Flexibility :** The structure can be expanded as needed, with dictionaries at multiple levels, allowing us to represent more complex data models.\n",
        "\n",
        "- In short,\n",
        " - A **nested dictionary** is simply a dictionary that contains other dictionaries as its values.\n",
        "\n",
        " - It is useful for representing hierarchical or structured data, like employee records, student grades, or any other scenario where data naturally fits into a multi-level structure.\n",
        "\n",
        " - We can access nested data by chaining keys, making it a powerful tool for organizing complex information."
      ],
      "metadata": {
        "id": "V5FizpuYPo5x"
      }
    },
    {
      "cell_type": "markdown",
      "source": [
        "**17.\tDescribe the time complexity of accessing elements in a dictionary.**\n",
        "- Accessing elements in a Python **dictionary** is generally **very efficient** with a **time complexity of O(1)**, also known as **constant time**.\n",
        "\n",
        "- This means that the time it takes to access a value using a key is constant, regardless of the number of elements in the dictionary.\n",
        "\n",
        "- **How dictionaries achieve O(1) time complexity :**\n",
        " - **Dictionaries** in Python are implemented using **hash tables**, which use the hash values of keys to quickly locate their corresponding values.\n",
        "\n",
        "   - **Hashing :** When we access an element in a dictionary, Python computes a **hash value** for the key. This hash value is used to determine the location (or **bucket**) where the key-value pair is stored.\n",
        "\n",
        "   - **Direct Access :** Once the hash value is computed, the dictionary can directly access the bucket, significantly reducing the search time.\n",
        "\n",
        "   - **Collision Resolution :** In the rare case of a **hash collision** (when two keys have the same hash value), Python resolves it efficiently, often by using techniques like **chaining** or **open addressing**. These methods still ensure that the average access time remains close to **O(1)**."
      ],
      "metadata": {
        "id": "y3KAZ3EIQgPR"
      }
    },
    {
      "cell_type": "code",
      "source": [
        "# EXAMPLE\n",
        "\n",
        "my_dict = {'apple': 1, 'banana': 2, 'cherry': 3}\n",
        "\n",
        "# Accessing the value associated with the key 'banana'\n",
        "print(my_dict['banana'])            # Output: 2\n",
        "\n",
        "# In this case;\n",
        "   # The hash value for 'banana' is computed.\n",
        "   # The dictionary immediately finds the bucket corresponding to 'banana' and returns its value 2 in constant time.\n"
      ],
      "metadata": {
        "colab": {
          "base_uri": "https://localhost:8080/"
        },
        "id": "xGJ0ZAILRn65",
        "outputId": "d3de3f53-cb52-4603-cac6-b414f87e25c1"
      },
      "execution_count": null,
      "outputs": [
        {
          "output_type": "stream",
          "name": "stdout",
          "text": [
            "2\n"
          ]
        }
      ]
    },
    {
      "cell_type": "markdown",
      "source": [
        "- **Time Complexity Breakdown :**\n",
        " - **Average Case (O(1)) :** In the vast majority of cases, accessing a key in a dictionary (whether it's for reading, updating, or deleting) takes constant time, i.e., O(1).\n",
        "\n",
        " - **Worst Case (O(n)) :** In rare situations, such as if many keys have the same hash (causing hash collisions), the dictionary may need to search through a chain or perform additional operations to resolve the collision. In such cases, the time complexity can degrade to **O(n)**, where n is the number of elements in the dictionary. However, modern implementations of hash tables (including Python's dictionary implementation) aim to minimize collisions, and thus O(n) is an exceptional case.\n",
        "\n",
        "\n",
        "- **Typical access time for dictionaries is O(1)**, meaning the time to look up a value using a key is constant.\n",
        "\n",
        "- The average case is very fast due to the hash table structure, which allows for direct indexing.\n",
        "\n",
        "- The worst-case time complexity can be O(n) in the event of hash collisions, but this is rare with good hash functions and effective collision resolution techniques.\n",
        "\n",
        "- Thus, dictionaries are highly optimized for quick lookups, making them a powerful data structure for scenarios requiring fast access to key-value pairs."
      ],
      "metadata": {
        "id": "AHKvnsT4R0dp"
      }
    },
    {
      "cell_type": "markdown",
      "source": [
        "**18.\tIn what situations are lists preferred over dictionaries ?**\n",
        "- While **dictionaries** are incredibly useful for quick lookups using keys, **lists** are preferred over dictionaries in certain situations, particularly when the order of elements, index-based access, or simple sequential operations are involved.\n",
        "\n",
        "- **The situations where lists are typically preferred :**\n",
        " - **When order matters :**\n",
        "   - Lists maintain the order of elements as they are inserted. This makes them ideal when you need to preserve the sequence of elements or iterate through them in the same order."
      ],
      "metadata": {
        "id": "Tk7qhdueMbMq"
      }
    },
    {
      "cell_type": "code",
      "source": [
        "# EXAMPLE : (We are storing a series of tasks that need to be completed in a specific order)\n",
        "\n",
        "tasks = ['task1', 'task2', 'task3']\n",
        "for task in tasks:\n",
        "  print(task)  # Prints tasks in the order they were added"
      ],
      "metadata": {
        "colab": {
          "base_uri": "https://localhost:8080/"
        },
        "id": "Q9hM9MI_ZGHl",
        "outputId": "aef6753f-cb05-4369-d2e4-9ee379f14b69"
      },
      "execution_count": null,
      "outputs": [
        {
          "output_type": "stream",
          "name": "stdout",
          "text": [
            "task1\n",
            "task2\n",
            "task3\n"
          ]
        }
      ]
    },
    {
      "cell_type": "markdown",
      "source": [
        "- - **When we need indexed access to elements :**\n",
        "   - Lists are indexed by integers, which makes them the best choice when we need to access elements by their position in the collection. This is ideal for scenarios where each element has a known position, and accessing it by index is efficient."
      ],
      "metadata": {
        "id": "G2ytEBz4tcdS"
      }
    },
    {
      "cell_type": "code",
      "source": [
        "# EXAMPLE : (We are managing a list of student grades and need to quickly access a specific grade by its index)\n",
        "\n",
        "grades = [85, 90, 78, 92]\n",
        "print(grades[2])     # Output: 78 (Accessing by index)"
      ],
      "metadata": {
        "colab": {
          "base_uri": "https://localhost:8080/"
        },
        "id": "3DKHZrJkaO76",
        "outputId": "979ca841-0aa7-4f8b-c0be-6c308b3357fd"
      },
      "execution_count": null,
      "outputs": [
        {
          "output_type": "stream",
          "name": "stdout",
          "text": [
            "78\n"
          ]
        }
      ]
    },
    {
      "cell_type": "markdown",
      "source": [
        "- - **When we need to store multiple items of the same type :**\n",
        "   - Lists are ideal when we need to store a **collection of similar items** (e.g., **numbers, strings, etc**) without needing to associate each item with a specific key.\n",
        "\n",
        "   - **For example**, a list is perfect for storing a series of numbers or names, and we don’t need to reference them by a unique key."
      ],
      "metadata": {
        "id": "AaWE9VrTaflK"
      }
    },
    {
      "cell_type": "code",
      "source": [
        "# EXAMPLE : (We are storing a list of temperatures recorded throughout the day)\n",
        "\n",
        "temperatures = [72, 75, 78, 80, 82]"
      ],
      "metadata": {
        "id": "L6P5_En2a_Hr"
      },
      "execution_count": null,
      "outputs": []
    },
    {
      "cell_type": "markdown",
      "source": [
        "- - **When we need to perform sequential operations :**\n",
        "   - Lists are suitable for situations where we need to perform **sequential operations**, such as iterating over all items, filtering, or applying transformations in order. Lists are optimized for operations that require ordered iterations and modifications at known positions."
      ],
      "metadata": {
        "id": "ANGp1p10afdh"
      }
    },
    {
      "cell_type": "code",
      "source": [
        "# EXAMPLE : (We want to filter out negative numbers from a list of temperatures)\n",
        "\n",
        "temperatures = [72, -5, 80, -3, 65]\n",
        "positive_temperatures = [temp for temp in temperatures if temp > 0]\n",
        "print(positive_temperatures)       # Output: [72, 80, 65]"
      ],
      "metadata": {
        "colab": {
          "base_uri": "https://localhost:8080/"
        },
        "id": "IIE_5wUPbhXC",
        "outputId": "bd72b879-3612-4b56-8681-5fdf553141a9"
      },
      "execution_count": null,
      "outputs": [
        {
          "output_type": "stream",
          "name": "stdout",
          "text": [
            "[72, 80, 65]\n"
          ]
        }
      ]
    },
    {
      "cell_type": "markdown",
      "source": [
        "- - **When we need to modify the collection (adding/removing elements) :**\n",
        "   - Lists support operations like **append**, **insert**, and **remove**, which make it easy to modify the collection by adding or removing elements. While dictionaries also support adding/removing key-value pairs, lists are often more intuitive for simple modifications, especially when we don’t need to associate data with a specific key."
      ],
      "metadata": {
        "id": "kdK718PYafT7"
      }
    },
    {
      "cell_type": "code",
      "source": [
        "# EXAMPLE : (We are adding new numbers to a list dynamically)\n",
        "\n",
        "numbers = [1, 2, 3]\n",
        "numbers.append(4)      # Adds 4 to the list\n",
        "numbers.remove(2)      # Removes 2 from the list\n",
        "\n",
        "print(numbers)         # Output: [1, 3, 4]"
      ],
      "metadata": {
        "colab": {
          "base_uri": "https://localhost:8080/"
        },
        "id": "bAikPxF9cNxJ",
        "outputId": "01d9a27e-5bc5-4c4c-8091-3e57ee6e4096"
      },
      "execution_count": null,
      "outputs": [
        {
          "output_type": "stream",
          "name": "stdout",
          "text": [
            "[1, 3, 4]\n"
          ]
        }
      ]
    },
    {
      "cell_type": "markdown",
      "source": [
        "- - **When we need to maintain a small collection or a collection with less frequent lookups :**\n",
        "   - Lists are more efficient when we have a **small collection of items** or when we don't need to do frequent lookups based on keys. If we don't need the fast key-based access provided by dictionaries, a list can be more straightforward."
      ],
      "metadata": {
        "id": "XYoOdR1ecoai"
      }
    },
    {
      "cell_type": "code",
      "source": [
        "# EXAMPLE : (A small list of names in a classroom where the focus is on adding, removing, or iterating over names, not looking them up by key)\n",
        "\n",
        "students = ['Alice', 'Bob', 'Charlie']"
      ],
      "metadata": {
        "id": "K46P0OokdAEZ"
      },
      "execution_count": null,
      "outputs": []
    },
    {
      "cell_type": "markdown",
      "source": [
        "- - **When we need to use list-specific methods :**\n",
        "   - Lists have built-in methods such as **sort()**, **reverse()**, and **extend()**, which are useful for manipulating ordered data directly. If we need to perform these types of operations, lists are a natural fit."
      ],
      "metadata": {
        "id": "MVTNvM5_afCy"
      }
    },
    {
      "cell_type": "code",
      "source": [
        "# EXAMPLE : (Sorting a list of numbers)\n",
        "\n",
        "numbers = [4, 2, 9, 1, 5]\n",
        "numbers.sort()\n",
        "print(numbers)       # Output: [1, 2, 4, 5, 9]"
      ],
      "metadata": {
        "colab": {
          "base_uri": "https://localhost:8080/"
        },
        "id": "3aNqW3pDdkoK",
        "outputId": "2a157d88-5af1-4684-b373-cc9ada9ea0e7"
      },
      "execution_count": null,
      "outputs": [
        {
          "output_type": "stream",
          "name": "stdout",
          "text": [
            "[1, 2, 4, 5, 9]\n"
          ]
        }
      ]
    },
    {
      "cell_type": "markdown",
      "source": [
        "- **In short,these are the conditions when we prefer using a List over a Dictionary :**\n",
        " - **When we care about the order** of elements.\n",
        "\n",
        " - **When we need to access elements by index** (i.e., positional access).\n",
        "\n",
        " - **When we want a simple, ordered collection** of similar items.\n",
        "\n",
        " - **When we need to perform sequential operations** (e.g., filtering, applying functions).\n",
        "\n",
        " - **When we need to modify the collection frequently** (e.g., adding/removing items).\n",
        "\n",
        " - **When we are working with small collections** and don't need fast lookups.\n",
        "\n",
        " - **When we need to use list-specific methods** like **sort(), append(), extend(), etc**.\n"
      ],
      "metadata": {
        "id": "DsRj3ku1eAX4"
      }
    },
    {
      "cell_type": "code",
      "source": [
        "# EXAMPLE : (Use Case : Managing Tasks in a List)\n",
        "\n",
        "tasks = [\"Buy groceries\", \"Finish homework\", \"Clean the house\"]\n",
        "tasks.append(\"Walk the dog\")        # Add a new task\n",
        "tasks.remove(\"Finish homework\")             # Remove a completed task\n",
        "tasks.sort()           # Sort tasks alphabetically\n",
        "\n",
        "print(tasks)\n",
        "\n",
        "# This example demonstrates how a list is well-suited for managing tasks, where we need to add, remove, and sort items, and the order of the tasks is important."
      ],
      "metadata": {
        "colab": {
          "base_uri": "https://localhost:8080/"
        },
        "id": "4R4VMmZIexT5",
        "outputId": "4ae445b2-44bb-4b0a-a494-0783c0ee4e7e"
      },
      "execution_count": null,
      "outputs": [
        {
          "output_type": "stream",
          "name": "stdout",
          "text": [
            "['Buy groceries', 'Clean the house', 'Walk the dog']\n"
          ]
        }
      ]
    },
    {
      "cell_type": "markdown",
      "source": [
        "- While **dictionaries** are ideal for cases where we need fast lookups with unique keys, **lists** are preferred when we need to:\n",
        " - Preserve the order of items.\n",
        "\n",
        " - Access elements by index.\n",
        "\n",
        " - Perform sequential operations or modifications.\n",
        "\n",
        " - Work with a simple collection of items without the need for key-value associations."
      ],
      "metadata": {
        "id": "DnvvTT1VfR_A"
      }
    },
    {
      "cell_type": "markdown",
      "source": [
        "**19.\tWhy are dictionaries considered unordered, and how does that affect data retrieval ?**\n",
        "- **Dictionaries** in Python are considered **unordered** because, unlike lists or tuples, the elements in a dictionary (i.e., key-value pairs) do not maintain any specific order when they are stored. This is due to how **hash tables** (the underlying data structure used by dictionaries) work.\n",
        "\n",
        "- **The Dictionaries are considered unordered because,**\n",
        " - **Hashing :**\n",
        "   - When we store data in a dictionary, the **keys** are hashed. This means that the dictionary computes a hash value from the key and uses that hash value to determine where the key-value pair should be stored in memory.\n",
        "\n",
        "   - The storage locations are determined by the hash value, not by the order in which the key-value pairs are added. This results in an internal structure that doesn't guarantee the order of the pairs.\n",
        "\n",
        " - **Efficiency over Order :**\n",
        "   - The main purpose of a dictionary is to provide **fast access** to values based on keys (with average time complexity O(1) for lookups, insertions, and deletions). The **unordered** nature of the dictionary allows it to achieve this efficiency.\n",
        "\n",
        "   - Ensuring order would require additional overhead (like maintaining a linked list of entries), which would impact the performance of key lookups.\n",
        "\n",
        " - **No Guarantees of insertion order (before Python 3.7) :**\n",
        "   - In versions of Python **prior to 3.7**, dictionaries were explicitly unordered. This meant that the order in which key-value pairs were inserted into a dictionary could not be relied upon, and there was no guarantee that the keys would appear in the same order when iterating over the dictionary.\n",
        "\n",
        "   - However, starting from **Python 3.7**, dictionaries **do preserve insertion order** as a language feature. This means that the order in which we add key-value pairs to the dictionary is maintained when we iterate through it, but the dictionary is still not considered \"ordered\" in the sense that its purpose is not to maintain any meaningful order of elements like a list.\n",
        "\n",
        "- **Impact of being unordered on data retrieval :**\n",
        " - **Efficient data retrieval (key-based) :**\n",
        "   - **Data retrieval** from a dictionary is done by key, and since dictionaries are implemented as hash tables, the lookup time is **O(1)** on average. This means that, despite the dictionary being unordered, accessing values by their **keys** is extremely fast.\n",
        "\n",
        "   - We donot need to worry about the order of the elements when retrieving data by key. The unordered nature has no negative impact on this operation."
      ],
      "metadata": {
        "id": "FVEbVJaEeAKp"
      }
    },
    {
      "cell_type": "code",
      "source": [
        "# EXAMPLE (Efficient data retrieval)\n",
        "\n",
        "my_dict = {'apple': 1, 'banana': 2, 'cherry': 3}\n",
        "print(my_dict['banana'])          # Output: 2\n",
        "\n",
        "# Here, the order of insertion does not affect the time it takes to retrieve 'banana' from the dictionary."
      ],
      "metadata": {
        "colab": {
          "base_uri": "https://localhost:8080/"
        },
        "id": "DJOX_qTSh0nA",
        "outputId": "5f7906be-476c-46bd-ecbf-55aa013e2d05"
      },
      "execution_count": null,
      "outputs": [
        {
          "output_type": "stream",
          "name": "stdout",
          "text": [
            "2\n"
          ]
        }
      ]
    },
    {
      "cell_type": "markdown",
      "source": [
        "- - **Iteration (Order of Elements) :**\n",
        "   - While dictionary elements can be iterated over, **the order of iteration is not guaranteed in versions before Python 3.7**. This means that if we iterate through a dictionary, we cannot assume that the elements will appear in the same order in which they were added.\n",
        "\n",
        "   - **Python 3.7+** maintains the insertion order, but again, it's important to note that this is more of a convenience for developers rather than a core feature of dictionaries. This order is not useful for tasks that require sorting or ordered relationships between keys."
      ],
      "metadata": {
        "id": "B0lDT4sqiIDQ"
      }
    },
    {
      "cell_type": "code",
      "source": [
        "# EXAMPLE (Python 3.6 and earlier)\n",
        "\n",
        "my_dict = {'apple': 1, 'banana': 2, 'cherry': 3}\n",
        "for key in my_dict:\n",
        "  print(key)"
      ],
      "metadata": {
        "colab": {
          "base_uri": "https://localhost:8080/"
        },
        "id": "irkF_zISjRlh",
        "outputId": "186d0991-54a8-4ab5-9afb-d69f845eaedf"
      },
      "execution_count": null,
      "outputs": [
        {
          "output_type": "stream",
          "name": "stdout",
          "text": [
            "apple\n",
            "banana\n",
            "cherry\n"
          ]
        }
      ]
    },
    {
      "cell_type": "markdown",
      "source": [
        "- - **Order doesn't affect key lookups :**\n",
        "   - Since dictionaries use hash tables, the retrieval of a value by key does not depend on the order of elements in the dictionary. The **unordered nature** of dictionaries means that even though the key-value pairs are stored in a non-sequential way, accessing any element by its key is still very fast and efficient.\n",
        "   \n",
        " - **Sorting :**\n",
        "   - If we need the elements of a dictionary to be in a specific order (such as by key or value), we can explicitly **sort** the dictionary using the **sorted()** function or use methods like **items()** or **keys()** with **sorted()** to achieve the desired order."
      ],
      "metadata": {
        "id": "v8_bwMaeiH8X"
      }
    },
    {
      "cell_type": "code",
      "source": [
        "# EXAMPLE (Sorting by key)\n",
        "\n",
        "my_dict = {'apple': 1, 'banana': 2, 'cherry': 3}\n",
        "sorted_dict = sorted(my_dict.items())  # Sorts by key\n",
        "print(sorted_dict)\n",
        "\n",
        "# Output: [('apple', 1), ('banana', 2), ('cherry', 3)]"
      ],
      "metadata": {
        "colab": {
          "base_uri": "https://localhost:8080/"
        },
        "id": "jnoUFx8ukT73",
        "outputId": "2fca763a-59a0-43e9-da90-1ec5e8e89385"
      },
      "execution_count": null,
      "outputs": [
        {
          "output_type": "stream",
          "name": "stdout",
          "text": [
            "[('apple', 1), ('banana', 2), ('cherry', 3)]\n"
          ]
        }
      ]
    },
    {
      "cell_type": "code",
      "source": [
        "# EXAMPLE (Sorting by value)\n",
        "\n",
        "sorted_by_value = sorted(my_dict.items(), key=lambda x: x[1])      # Sorts by value\n",
        "print(sorted_by_value)\n",
        "\n",
        "# Output: [('apple', 1), ('banana', 2), ('cherry', 3)]"
      ],
      "metadata": {
        "colab": {
          "base_uri": "https://localhost:8080/"
        },
        "id": "F5lBYVw2kxj_",
        "outputId": "42145e22-36bf-46a8-cd50-29f138d406dc"
      },
      "execution_count": null,
      "outputs": [
        {
          "output_type": "stream",
          "name": "stdout",
          "text": [
            "[('apple', 1), ('banana', 2), ('cherry', 3)]\n"
          ]
        }
      ]
    },
    {
      "cell_type": "markdown",
      "source": [
        "- **Dictionaries are unordered** (prior to Python 3.7) because their elements are stored based on hash values, which doesn't guarantee any specific order of key-value pairs.\n",
        "\n",
        "- **Accessing values by key** is very efficient (**O(1)** on average), and the unordered nature of dictionaries does not affect this performance.\n",
        "\n",
        "- In **Python 3.7+**, dictionaries **do preserve insertion order**, but they are still not \"ordered\" in the same sense as lists, which are explicitly designed to maintain a specific sequence.\n",
        "\n",
        "- If we need **sorted data** from a dictionary, we can explicitly sort the dictionary using **sorted()**, but keep in mind that dictionaries themselves are not intended to maintain order unless it's specifically required (Python 3.7+).\n",
        "\n",
        "- In conclusion, dictionaries primary strength is in **efficient key-based lookups**, not maintaining the order of elements. The unordered nature of dictionaries doesn't impact the efficiency of data retrieval, but we might need to handle sorting explicitly if we need the data in a specific order."
      ],
      "metadata": {
        "id": "ugRXarpIiHwr"
      }
    },
    {
      "cell_type": "markdown",
      "source": [
        "**20.\tExplain the difference between a list and a dictionary in terms of data retrieval.**\n",
        "- The difference between a **list** and a **dictionary** in terms of **data retrieval** mainly lies in how the data is accessed, the efficiency of access, and the structure of the data.\n",
        "\n",
        "- **Key differences in data retrieval :**\n",
        " - **Access Method :**\n",
        "   - **List :** Data is accessed by **index**.\n",
        "\n",
        "   - A list is an ordered collection, where each item has a specific position, or index, starting from 0. To access an element in a list, we use its index.\n",
        "\n",
        "   - **Access Time :** Since a **list** is indexed by position, the time complexity for accessing an element by index is **O(1)**, which is constant time, meaning it’s very fast regardless of the list’s size.\n",
        "\n",
        "   - However, **accessing elements by value** (i.e., finding the index of a value) would require a linear search, with a time complexity of **O(n)**, where **n** is the **number of elements in the list**."
      ],
      "metadata": {
        "id": "xTddwFfdiHp3"
      }
    },
    {
      "cell_type": "code",
      "source": [
        "# EXAMPLE (List : Data is accessed by index)\n",
        "\n",
        "my_list = ['apple', 'banana', 'cherry']\n",
        "print(my_list[1])      # Output: 'banana'"
      ],
      "metadata": {
        "colab": {
          "base_uri": "https://localhost:8080/"
        },
        "id": "ylYR_tI33etP",
        "outputId": "0f04e9dc-102d-4676-8981-aed7b53c0602"
      },
      "execution_count": null,
      "outputs": [
        {
          "output_type": "stream",
          "name": "stdout",
          "text": [
            "banana\n"
          ]
        }
      ]
    },
    {
      "cell_type": "markdown",
      "source": [
        "- - - **Dictionary :** Data is accessed by **key**.\n",
        "\n",
        "    - A dictionary is an unordered collection of key-value pairs. Each item has a **unique key** associated with a value. To access the value, we use the **key**, not an index.\n",
        "\n",
        "    - **Access Time :** The time complexity for accessing a value by its **key** is **O(1)** on average, due to the hash table structure used for dictionaries. This means that retrieving a value based on a key is extremely fast, regardless of the dictionary’s size.\n",
        "\n",
        "    - However, **accessing values by key** that doesn't exist or retrieving keys from a list of values requires a linear search (i.e., O(n))."
      ],
      "metadata": {
        "id": "myHsqiqW30wP"
      }
    },
    {
      "cell_type": "code",
      "source": [
        "# EXAMPLE (Dictionary : Data is accessed by key)\n",
        "\n",
        "my_dict = {'apple': 1, 'banana': 2, 'cherry': 3}\n",
        "print(my_dict['banana'])      # Output: 2"
      ],
      "metadata": {
        "colab": {
          "base_uri": "https://localhost:8080/"
        },
        "id": "mpbOyGZm5L2m",
        "outputId": "f637704a-720a-461b-c1e2-16286a37bf18"
      },
      "execution_count": null,
      "outputs": [
        {
          "output_type": "stream",
          "name": "stdout",
          "text": [
            "2\n"
          ]
        }
      ]
    },
    {
      "cell_type": "markdown",
      "source": [
        "- - **Ordering :**\n",
        "   - **List :** A list is **ordered**, which means the elements maintain the order in which they were added. We can access items based on their index, and their position is always fixed.\n",
        "\n"
      ],
      "metadata": {
        "id": "xtuiVoW3iHif"
      }
    },
    {
      "cell_type": "code",
      "source": [
        "# EXAMPLE : (If we have a list of items, we can always access the first item by index 0, the second item by index 1, and so on.\n",
        "\n",
        "fruits = ['apple', 'banana', 'cherry']\n",
        "print(fruits[0])           # Output: 'apple'"
      ],
      "metadata": {
        "colab": {
          "base_uri": "https://localhost:8080/"
        },
        "id": "IeXlG7QG52Se",
        "outputId": "6645cc85-e081-4d1c-ada3-680e1f5325e8"
      },
      "execution_count": null,
      "outputs": [
        {
          "output_type": "stream",
          "name": "stdout",
          "text": [
            "apple\n"
          ]
        }
      ]
    },
    {
      "cell_type": "markdown",
      "source": [
        "- - - **Dictionary :** Dictionaries (before Python 3.7) are **unordered**, meaning there is no guarantee about the order of key-value pairs when we iterate over the dictionary. However, starting from **Python 3.7**, dictionaries **do maintain the insertion order** of key-value pairs."
      ],
      "metadata": {
        "id": "Bn9b2K5j6OcG"
      }
    },
    {
      "cell_type": "code",
      "source": [
        "# EXAMPLE : (In Python 3.7+, the order of key-value pairs is preserved when we iterate, but it’s still based on key-value pairs, not a positional index.\n",
        "\n",
        "my_dict = {'apple': 1, 'banana': 2, 'cherry': 3}\n",
        "for key, value in my_dict.items():\n",
        "  print(key, value)"
      ],
      "metadata": {
        "colab": {
          "base_uri": "https://localhost:8080/"
        },
        "id": "5WBFob8U6fgV",
        "outputId": "2713cf9d-33ce-400a-b540-ff6201b783c8"
      },
      "execution_count": null,
      "outputs": [
        {
          "output_type": "stream",
          "name": "stdout",
          "text": [
            "apple 1\n",
            "banana 2\n",
            "cherry 3\n"
          ]
        }
      ]
    },
    {
      "cell_type": "markdown",
      "source": [
        "- - **Efficiency of Lookup :**\n",
        "   - **List :** Lookup by **index** is **very fast** (O(1)), but **lookup by value** is generally slower. If we don’t know the index of the value, we would have to search through the entire list, which takes **O(n)** time.\n",
        "\n",
        "   - **Efficiency :** Lists are efficient for use cases where we know the index or where we just want to iterate over the items sequentially. However, finding a specific item by value can be inefficient in large lists."
      ],
      "metadata": {
        "id": "tW_yYhho6zRV"
      }
    },
    {
      "cell_type": "code",
      "source": [
        "# EXAMPLE (List : Efficiency of Lookup)\n",
        "\n",
        "fruits = ['apple', 'banana', 'cherry']\n",
        "print(fruits.index('banana'))          # Output: 1 (searching for the index of 'banana')"
      ],
      "metadata": {
        "colab": {
          "base_uri": "https://localhost:8080/"
        },
        "id": "RuXs0XkE7P5F",
        "outputId": "13bd97d6-0522-41ee-822d-27004a6e3818"
      },
      "execution_count": null,
      "outputs": [
        {
          "output_type": "stream",
          "name": "stdout",
          "text": [
            "1\n"
          ]
        }
      ]
    },
    {
      "cell_type": "markdown",
      "source": [
        "- - - **Dictionary :** Lookup by **key** is **very efficient** (O(1) on average) because of the **hash table** structure. The hash value of the key allows Python to compute the memory location of the key-value pair directly, making lookups fast even for large datasets.\n",
        "\n",
        "   - **Efficiency :** Dictionaries are more efficient for situations where we need to look up data by a specific key. If we know the key, we can access the value almost instantly."
      ],
      "metadata": {
        "id": "nxujyvZzeAB7"
      }
    },
    {
      "cell_type": "code",
      "source": [
        "# EXAMPLE (Dictionary : Efficiency of Lookup)\n",
        "\n",
        "my_dict = {'apple': 1, 'banana': 2, 'cherry': 3}\n",
        "print(my_dict['banana'])        # Output: 2"
      ],
      "metadata": {
        "colab": {
          "base_uri": "https://localhost:8080/"
        },
        "id": "dW3Knz6Y77lU",
        "outputId": "8937726d-0dd7-480f-e865-509d83ab3022"
      },
      "execution_count": null,
      "outputs": [
        {
          "output_type": "stream",
          "name": "stdout",
          "text": [
            "2\n"
          ]
        }
      ]
    },
    {
      "cell_type": "markdown",
      "source": [
        "- - **Data Structure and Purpose :**\n",
        "   - **List :** A list is a **sequential collection** of items, indexed by integer values. It's ideal for maintaining an **ordered collection** where we can access elements by position, and where we might need to modify, add, or remove elements.\n",
        "  \n",
        "   - **Use case :** When we want to maintain the order and position of items (e.g., a list of tasks that must be completed in a specific order).\n",
        "\n",
        "   - **Dictionary :** A dictionary is a **key-value mapping** where each key is unique, and each key is mapped to a value. It's ideal when we need to store data in a way that allows for fast access to values based on a specific key, rather than by position.\n",
        "  \n",
        "   - **Use case :** When we need to store and retrieve data quickly based on a unique key (e.g., storing employee names and their corresponding salaries)."
      ],
      "metadata": {
        "id": "74u97ZZ58KqT"
      }
    },
    {
      "cell_type": "code",
      "source": [
        "# EXAMPLE (Use Cases)\n",
        "\n",
        "# List : A list of student grades where order matters (e.g., ordered by submission date).\n",
        "\n",
        "grades = [85, 90, 78, 92]\n",
        "\n",
        "# Dictionary : A dictionary of student names and their corresponding grades for fast lookups.\n",
        "\n",
        "student_grades = {'Alice': 85, 'Bob': 90, 'Charlie': 78}"
      ],
      "metadata": {
        "id": "NO8ZpMMM9D-8"
      },
      "execution_count": null,
      "outputs": []
    },
    {
      "cell_type": "markdown",
      "source": [
        "- In short,\n",
        " - **Lists** are ideal when we need ordered data, index-based access, and when the order of elements is important.\n",
        "\n",
        " - **Dictionaries** are ideal when we need fast lookups based on unique keys, where the order of the data doesn’t matter (unless Python 3.7+ where order is preserved). They are optimized for **key-based retrieval**."
      ],
      "metadata": {
        "id": "QDDxuOAt913T"
      }
    },
    {
      "cell_type": "markdown",
      "source": [
        "**PRACTICAL QUESTIONS**"
      ],
      "metadata": {
        "id": "hia-g0RLDqW4"
      }
    },
    {
      "cell_type": "markdown",
      "source": [
        "**1. Write a code to create a string with your name and print it.**"
      ],
      "metadata": {
        "id": "pFv25jUfDqe5"
      }
    },
    {
      "cell_type": "code",
      "source": [
        "my_name = \"Satyam\"\n",
        "\n",
        "print(my_name)"
      ],
      "metadata": {
        "colab": {
          "base_uri": "https://localhost:8080/"
        },
        "id": "3MZJZ073Easz",
        "outputId": "ed74e5e2-1141-42c4-8cda-902eac6ea722"
      },
      "execution_count": null,
      "outputs": [
        {
          "output_type": "stream",
          "name": "stdout",
          "text": [
            "Satyam\n"
          ]
        }
      ]
    },
    {
      "cell_type": "markdown",
      "source": [
        "**2. Write a code to find the length of the string \"Hello World\".**"
      ],
      "metadata": {
        "id": "_FkvfCxzDqlL"
      }
    },
    {
      "cell_type": "code",
      "source": [
        "text = \"Hello World\"\n",
        "\n",
        "length = len(text)   # To find the length of the string\n",
        "\n",
        "print(length)"
      ],
      "metadata": {
        "colab": {
          "base_uri": "https://localhost:8080/"
        },
        "id": "PzFVTbVzFPuD",
        "outputId": "766a31e8-e5d4-4b37-f9c9-4d01f321e080"
      },
      "execution_count": null,
      "outputs": [
        {
          "output_type": "stream",
          "name": "stdout",
          "text": [
            "11\n"
          ]
        }
      ]
    },
    {
      "cell_type": "markdown",
      "source": [
        "**3. Write a code to slice the first 3 characters from the string \"Python Programming\".**"
      ],
      "metadata": {
        "id": "bUgodMAiDqpo"
      }
    },
    {
      "cell_type": "code",
      "source": [
        "text = \"Python Programming\"\n",
        "\n",
        "sliced_text = text[:3]     # Slicing the first 3 characters\n",
        "\n",
        "print(sliced_text)"
      ],
      "metadata": {
        "colab": {
          "base_uri": "https://localhost:8080/"
        },
        "id": "m_jW0QSeFnY8",
        "outputId": "d5b18908-8b77-4bca-b217-f50ab5038bc1"
      },
      "execution_count": null,
      "outputs": [
        {
          "output_type": "stream",
          "name": "stdout",
          "text": [
            "Pyt\n"
          ]
        }
      ]
    },
    {
      "cell_type": "markdown",
      "source": [
        "**4. Write a code to convert the string \"hello\" to uppercase.**"
      ],
      "metadata": {
        "id": "QrLBG5MwGE9Z"
      }
    },
    {
      "cell_type": "code",
      "source": [
        "text = \"hello\"\n",
        "\n",
        "uppercase_text = text.upper()   # Converting the string to uppercase\n",
        "\n",
        "print(uppercase_text)"
      ],
      "metadata": {
        "colab": {
          "base_uri": "https://localhost:8080/"
        },
        "id": "YKqVpvDSGFmk",
        "outputId": "83d72555-84f9-4122-b8c1-c1cd21210fb9"
      },
      "execution_count": null,
      "outputs": [
        {
          "output_type": "stream",
          "name": "stdout",
          "text": [
            "HELLO\n"
          ]
        }
      ]
    },
    {
      "cell_type": "markdown",
      "source": [
        "**5. Write a code to replace the word \"apple\" with \"orange\" in the string \"I like apple\".**"
      ],
      "metadata": {
        "id": "maYrUDYvGpC0"
      }
    },
    {
      "cell_type": "code",
      "source": [
        "text = \"I like apple\"\n",
        "\n",
        "new_text = text.replace(\"apple\", \"orange\")   # Replacing \"apple\" with \"orange\"\n",
        "\n",
        "print(new_text)"
      ],
      "metadata": {
        "colab": {
          "base_uri": "https://localhost:8080/"
        },
        "id": "IBHq6EdBGpVy",
        "outputId": "492a3867-9266-4ec6-ace4-06a3b2a3dd9d"
      },
      "execution_count": null,
      "outputs": [
        {
          "output_type": "stream",
          "name": "stdout",
          "text": [
            "I like orange\n"
          ]
        }
      ]
    },
    {
      "cell_type": "markdown",
      "source": [
        "**6. Write a code to create a list with numbers 1 to 5 and print it.**"
      ],
      "metadata": {
        "id": "shzIJ46yGsqS"
      }
    },
    {
      "cell_type": "code",
      "source": [
        "numbers = [1, 2, 3, 4, 5]\n",
        "\n",
        "print(numbers)"
      ],
      "metadata": {
        "colab": {
          "base_uri": "https://localhost:8080/"
        },
        "id": "03rWUar9Gsx5",
        "outputId": "ad893639-53a2-4e1b-c9e7-8f05324bfa10"
      },
      "execution_count": null,
      "outputs": [
        {
          "output_type": "stream",
          "name": "stdout",
          "text": [
            "[1, 2, 3, 4, 5]\n"
          ]
        }
      ]
    },
    {
      "cell_type": "markdown",
      "source": [
        "**7. Write a code to append the number 10 to the list [1, 2, 3, 4].**"
      ],
      "metadata": {
        "id": "yR1lrpLiGs7z"
      }
    },
    {
      "cell_type": "code",
      "source": [
        "numbers = [1, 2, 3, 4]\n",
        "\n",
        "numbers.append(10)   # Appending the number 10 to the list\n",
        "\n",
        "print(numbers)   # Printing the updated list"
      ],
      "metadata": {
        "colab": {
          "base_uri": "https://localhost:8080/"
        },
        "id": "wFsdVy4CGtDs",
        "outputId": "bb93e4c8-3d9a-4faf-b537-3298a1d35330"
      },
      "execution_count": null,
      "outputs": [
        {
          "output_type": "stream",
          "name": "stdout",
          "text": [
            "[1, 2, 3, 4, 10]\n"
          ]
        }
      ]
    },
    {
      "cell_type": "markdown",
      "source": [
        "**8. Write a code to remove the number 3 from the list [1, 2, 3, 4, 5].**"
      ],
      "metadata": {
        "id": "QRfHC6TYGtMJ"
      }
    },
    {
      "cell_type": "code",
      "source": [
        "numbers = [1, 2, 3, 4, 5]\n",
        "\n",
        "numbers.remove(3)  # Removing the number 3 from the list\n",
        "\n",
        "print(numbers)  # Printing the updated list"
      ],
      "metadata": {
        "id": "CiVUW6_rGtUZ"
      },
      "execution_count": null,
      "outputs": []
    },
    {
      "cell_type": "markdown",
      "source": [
        "**9. Write a code to access the second element in the list ['a', 'b', 'c', 'd'].**"
      ],
      "metadata": {
        "id": "IOxYpwUAGtdD"
      }
    },
    {
      "cell_type": "code",
      "source": [
        "letters = ['a', 'b', 'c', 'd']\n",
        "\n",
        "second_element = letters[1]  # Accessing the second element (index 1)\n",
        "\n",
        "print(second_element)  # Printing the second element"
      ],
      "metadata": {
        "colab": {
          "base_uri": "https://localhost:8080/"
        },
        "id": "BcNvWtNvGtkx",
        "outputId": "890f7c97-197b-4caf-abbf-a45e6d345bac"
      },
      "execution_count": null,
      "outputs": [
        {
          "output_type": "stream",
          "name": "stdout",
          "text": [
            "b\n"
          ]
        }
      ]
    },
    {
      "cell_type": "markdown",
      "source": [
        "**10. Write a code to reverse the list [10, 20, 30, 40, 50].**"
      ],
      "metadata": {
        "id": "6m7kOPNyGttZ"
      }
    },
    {
      "cell_type": "code",
      "source": [
        "numbers = [10, 20, 30, 40, 50]\n",
        "\n",
        "numbers.reverse()  # Reversing the list\n",
        "\n",
        "print(numbers)  # Printing the reversed list"
      ],
      "metadata": {
        "colab": {
          "base_uri": "https://localhost:8080/"
        },
        "id": "20yNCilhGt1i",
        "outputId": "12d7fd7f-dac1-4c18-c0ec-26cfdb9bce35"
      },
      "execution_count": null,
      "outputs": [
        {
          "output_type": "stream",
          "name": "stdout",
          "text": [
            "[50, 40, 30, 20, 10]\n"
          ]
        }
      ]
    },
    {
      "cell_type": "markdown",
      "source": [
        "**11. Write a code to create a tuple with the elements 100, 200, 300 and print it.**"
      ],
      "metadata": {
        "id": "Y-yQAginGt9t"
      }
    },
    {
      "cell_type": "code",
      "source": [
        "my_tuple = (100, 200, 300)\n",
        "\n",
        "print(my_tuple)"
      ],
      "metadata": {
        "colab": {
          "base_uri": "https://localhost:8080/"
        },
        "id": "6IfimO70GuGK",
        "outputId": "628e6619-3aad-4e24-8914-8467d0ab4d28"
      },
      "execution_count": null,
      "outputs": [
        {
          "output_type": "stream",
          "name": "stdout",
          "text": [
            "(100, 200, 300)\n"
          ]
        }
      ]
    },
    {
      "cell_type": "markdown",
      "source": [
        "**12. Write a code to access the second-to-last element of the tuple ('red', 'green', 'blue', 'yellow').**"
      ],
      "metadata": {
        "id": "qSw9v9-XGuOJ"
      }
    },
    {
      "cell_type": "code",
      "source": [
        "colors = ('red', 'green', 'blue', 'yellow')\n",
        "\n",
        "second_to_last = colors[-2]  # Accessing the second-to-last element\n",
        "\n",
        "print(second_to_last)"
      ],
      "metadata": {
        "colab": {
          "base_uri": "https://localhost:8080/"
        },
        "id": "NZXypulFGuWx",
        "outputId": "7edeb0aa-830c-4b0c-c5d5-83d37ff71708"
      },
      "execution_count": null,
      "outputs": [
        {
          "output_type": "stream",
          "name": "stdout",
          "text": [
            "blue\n"
          ]
        }
      ]
    },
    {
      "cell_type": "markdown",
      "source": [
        "**13. Write a code to find the minimum number in the tuple (10, 20, 5, 15).**"
      ],
      "metadata": {
        "id": "Xr4nIEP-Guex"
      }
    },
    {
      "cell_type": "code",
      "source": [
        "numbers = (10, 20, 5, 15)\n",
        "\n",
        "min_number = min(numbers)  # Finding the minimum number in the tuple\n",
        "\n",
        "print(min_number)"
      ],
      "metadata": {
        "colab": {
          "base_uri": "https://localhost:8080/"
        },
        "id": "GQ5LE58ZGunR",
        "outputId": "e0d526d0-23c0-42cd-e9ce-911aec484d4c"
      },
      "execution_count": null,
      "outputs": [
        {
          "output_type": "stream",
          "name": "stdout",
          "text": [
            "5\n"
          ]
        }
      ]
    },
    {
      "cell_type": "markdown",
      "source": [
        "**14. Write a code to find the index of the element \"cat\" in the tuple ('dog', 'cat', 'rabbit').**"
      ],
      "metadata": {
        "id": "VL_cmATlLuDr"
      }
    },
    {
      "cell_type": "code",
      "source": [
        "animals = ('dog', 'cat', 'rabbit')\n",
        "\n",
        "index_of_cat = animals.index('cat')  # Finding the index of the element \"cat\"\n",
        "\n",
        "print(index_of_cat)"
      ],
      "metadata": {
        "colab": {
          "base_uri": "https://localhost:8080/"
        },
        "id": "GRdQQaQeLu0l",
        "outputId": "89432254-26ae-4578-9760-f66c6e5028f7"
      },
      "execution_count": null,
      "outputs": [
        {
          "output_type": "stream",
          "name": "stdout",
          "text": [
            "1\n"
          ]
        }
      ]
    },
    {
      "cell_type": "markdown",
      "source": [
        "**15. Write a code to create a tuple containing three different fruits and check if \"kiwi\" is in it.**"
      ],
      "metadata": {
        "id": "mbJYpaT9Lu-c"
      }
    },
    {
      "cell_type": "code",
      "source": [
        "fruits = ('apple', 'banana', 'cherry')\n",
        "\n",
        "is_kiwi_in_tuple = 'kiwi' in fruits   # Checking if \"kiwi\" is in the tuple\n",
        "\n",
        "print(is_kiwi_in_tuple)"
      ],
      "metadata": {
        "colab": {
          "base_uri": "https://localhost:8080/"
        },
        "id": "AlcgdskiLvHe",
        "outputId": "276d1f9f-dce3-46cb-ccfa-e916b09bf1ef"
      },
      "execution_count": null,
      "outputs": [
        {
          "output_type": "stream",
          "name": "stdout",
          "text": [
            "False\n"
          ]
        }
      ]
    },
    {
      "cell_type": "markdown",
      "source": [
        "**16. Write a code to create a set with the elements 'a', 'b', 'c' and print it.**"
      ],
      "metadata": {
        "id": "zIHINgQXLvQF"
      }
    },
    {
      "cell_type": "code",
      "source": [
        "my_set = {'a', 'b', 'c'}\n",
        "\n",
        "print(my_set)"
      ],
      "metadata": {
        "colab": {
          "base_uri": "https://localhost:8080/"
        },
        "id": "dyh9JW1CLvaG",
        "outputId": "89a49c28-6c4e-4e5c-a81c-4ad03a153fed"
      },
      "execution_count": null,
      "outputs": [
        {
          "output_type": "stream",
          "name": "stdout",
          "text": [
            "{'c', 'a', 'b'}\n"
          ]
        }
      ]
    },
    {
      "cell_type": "markdown",
      "source": [
        "**17. Write a code to clear all elements from the set {1, 2, 3, 4, 5}.**"
      ],
      "metadata": {
        "id": "PZh4MIEULvid"
      }
    },
    {
      "cell_type": "code",
      "source": [
        "my_set = {1, 2, 3, 4, 5}\n",
        "\n",
        "my_set.clear()  # Clear all elements from the set\n",
        "\n",
        "print(my_set)  # Print the set to confirm it's empty"
      ],
      "metadata": {
        "colab": {
          "base_uri": "https://localhost:8080/"
        },
        "id": "Kw4iJXVnLvrn",
        "outputId": "02e8183c-e067-4481-d5e1-c8bb937a7c1c"
      },
      "execution_count": null,
      "outputs": [
        {
          "output_type": "stream",
          "name": "stdout",
          "text": [
            "set()\n"
          ]
        }
      ]
    },
    {
      "cell_type": "markdown",
      "source": [
        "**18. Write a code to remove the element 4 from the set {1, 2, 3, 4}.**"
      ],
      "metadata": {
        "id": "orhHXn9KLvz2"
      }
    },
    {
      "cell_type": "code",
      "source": [
        "my_set = {1, 2, 3, 4}\n",
        "\n",
        "my_set.remove(4)   # Remove the element 4 from the set\n",
        "\n",
        "print(my_set)   # Print the updated set"
      ],
      "metadata": {
        "colab": {
          "base_uri": "https://localhost:8080/"
        },
        "id": "QpFRlWMDLv81",
        "outputId": "a7cbcc50-44ef-4c29-9b0d-abf5a6d654f1"
      },
      "execution_count": null,
      "outputs": [
        {
          "output_type": "stream",
          "name": "stdout",
          "text": [
            "{1, 2, 3}\n"
          ]
        }
      ]
    },
    {
      "cell_type": "markdown",
      "source": [
        "**19. Write a code to find the union of two sets {1, 2, 3} and {3, 4, 5}.**"
      ],
      "metadata": {
        "id": "_6M1O-pKLwGd"
      }
    },
    {
      "cell_type": "code",
      "source": [
        "set1 = {1, 2, 3}\n",
        "set2 = {3, 4, 5}\n",
        "\n",
        "union_set = set1.union(set2)   # Find the union of the two sets\n",
        "\n",
        "print(union_set)"
      ],
      "metadata": {
        "colab": {
          "base_uri": "https://localhost:8080/"
        },
        "id": "pWR5gBnaLwOd",
        "outputId": "1dbc112f-710d-4453-86b7-721eb3eea11a"
      },
      "execution_count": null,
      "outputs": [
        {
          "output_type": "stream",
          "name": "stdout",
          "text": [
            "{1, 2, 3, 4, 5}\n"
          ]
        }
      ]
    },
    {
      "cell_type": "markdown",
      "source": [
        "**20. Write a code to find the intersection of two sets {1, 2, 3} and {2, 3, 4}.**"
      ],
      "metadata": {
        "id": "gaSWYdF9LwWf"
      }
    },
    {
      "cell_type": "code",
      "source": [
        "set1 = {1, 2, 3}\n",
        "set2 = {2, 3, 4}\n",
        "\n",
        "intersection_set = set1.intersection(set2)   # Find the intersection of the two sets\n",
        "\n",
        "print(intersection_set)"
      ],
      "metadata": {
        "colab": {
          "base_uri": "https://localhost:8080/"
        },
        "id": "ClbdOLrNLwev",
        "outputId": "e498cd17-3622-4706-df51-16693be59a07"
      },
      "execution_count": null,
      "outputs": [
        {
          "output_type": "stream",
          "name": "stdout",
          "text": [
            "{2, 3}\n"
          ]
        }
      ]
    },
    {
      "cell_type": "markdown",
      "source": [
        "**21. Write a code to create a dictionary with the keys \"name\", \"age\", and \"city\", and print it.**"
      ],
      "metadata": {
        "id": "uafk2ypdLwoN"
      }
    },
    {
      "cell_type": "code",
      "source": [
        "my_dict = {\"name\": \"John\", \"age\": 25, \"city\": \"New York\"}\n",
        "\n",
        "print(my_dict)"
      ],
      "metadata": {
        "colab": {
          "base_uri": "https://localhost:8080/"
        },
        "id": "OUCJsj2kLww9",
        "outputId": "532d47d2-ecb7-497f-f7ae-c3bf3d3e076f"
      },
      "execution_count": null,
      "outputs": [
        {
          "output_type": "stream",
          "name": "stdout",
          "text": [
            "{'name': 'John', 'age': 25, 'city': 'New York'}\n"
          ]
        }
      ]
    },
    {
      "cell_type": "markdown",
      "source": [
        "**22. Write a code to add a new key-value pair \"country\": \"USA\" to the dictionary {'name': 'John', 'age': 25}.**"
      ],
      "metadata": {
        "id": "NZWLHp6VLw9l"
      }
    },
    {
      "cell_type": "code",
      "source": [
        "my_dict = {'name': 'John', 'age': 25}\n",
        "\n",
        "my_dict[\"country\"] = \"USA\"   # Add a new key-value pair\n",
        "\n",
        "print(my_dict)    # Print the updated dictionary"
      ],
      "metadata": {
        "colab": {
          "base_uri": "https://localhost:8080/"
        },
        "id": "fhhC7s1xLxGE",
        "outputId": "663d30e9-595a-4f8f-e1d2-b327b52e86a7"
      },
      "execution_count": null,
      "outputs": [
        {
          "output_type": "stream",
          "name": "stdout",
          "text": [
            "{'name': 'John', 'age': 25, 'country': 'USA'}\n"
          ]
        }
      ]
    },
    {
      "cell_type": "markdown",
      "source": [
        "**23. Write a code to access the value associated with the key \"name\" in the dictionary {'name': 'Alice', 'age': 30}.**"
      ],
      "metadata": {
        "id": "e3989mSdT7nA"
      }
    },
    {
      "cell_type": "code",
      "source": [
        "my_dict = {'name': 'Alice', 'age': 30}\n",
        "\n",
        "name_value = my_dict.get('name')   # Access the value associated with the key \"name\"\n",
        "\n",
        "print(name_value)"
      ],
      "metadata": {
        "colab": {
          "base_uri": "https://localhost:8080/"
        },
        "id": "BQ4ho1AgT7xb",
        "outputId": "208a0154-e277-450e-e94e-ab829484b2cc"
      },
      "execution_count": null,
      "outputs": [
        {
          "output_type": "stream",
          "name": "stdout",
          "text": [
            "Alice\n"
          ]
        }
      ]
    },
    {
      "cell_type": "markdown",
      "source": [
        "**24. Write a code to remove the key \"age\" from the dictionary {'name': 'Bob', 'age': 22, 'city': 'New York'}.**"
      ],
      "metadata": {
        "id": "FyVsQafMT754"
      }
    },
    {
      "cell_type": "code",
      "source": [
        "my_dict = {'name': 'Bob', 'age': 22, 'city': 'New York'}\n",
        "\n",
        "# Remove the key \"age\" from the dictionary\n",
        "my_dict.pop('age', None)    # Using pop() to remove the key safely\n",
        "\n",
        "print(my_dict)    # Print the updated dictionary"
      ],
      "metadata": {
        "colab": {
          "base_uri": "https://localhost:8080/"
        },
        "id": "UAfM90xlT8Dh",
        "outputId": "1612bbce-6871-41ae-ec53-04f57a6c8286"
      },
      "execution_count": null,
      "outputs": [
        {
          "output_type": "stream",
          "name": "stdout",
          "text": [
            "{'name': 'Bob', 'city': 'New York'}\n"
          ]
        }
      ]
    },
    {
      "cell_type": "markdown",
      "source": [
        "**25. Write a code to check if the key \"city\" exists in the dictionary {'name': 'Alice', 'city': 'Paris'}.**"
      ],
      "metadata": {
        "id": "Yl0hoRUpT8LG"
      }
    },
    {
      "cell_type": "code",
      "source": [
        "my_dict = {'name': 'Alice', 'city': 'Paris'}\n",
        "\n",
        "# Check if the key \"city\" exists in the dictionary\n",
        "if 'city' in my_dict:\n",
        "    print(\"The key 'city' exists in the dictionary.\")\n",
        "else:\n",
        "    print(\"The key 'city' does not exist in the dictionary.\")"
      ],
      "metadata": {
        "colab": {
          "base_uri": "https://localhost:8080/"
        },
        "id": "l3hwq55CT8S4",
        "outputId": "5870dd04-5f4d-420f-e0c4-0f96a61bf2af"
      },
      "execution_count": null,
      "outputs": [
        {
          "output_type": "stream",
          "name": "stdout",
          "text": [
            "The key 'city' exists in the dictionary.\n"
          ]
        }
      ]
    },
    {
      "cell_type": "markdown",
      "source": [
        "**26. Write a code to create a list, a tuple, and a dictionary, and print them all.**"
      ],
      "metadata": {
        "id": "ZCDb2UOrT8bd"
      }
    },
    {
      "cell_type": "code",
      "source": [
        "# Create a list\n",
        "my_list = [1, 2, 3, 4, 5]\n",
        "\n",
        "# Create a tuple\n",
        "my_tuple = (10, 20, 30, 40, 50)\n",
        "\n",
        "# Create a dictionary\n",
        "my_dict = {'name': 'Alice', 'age': 30, 'city': 'Paris'}\n",
        "\n",
        "# Print the list, tuple, and dictionary\n",
        "print(\"List:\", my_list)\n",
        "print(\"Tuple:\", my_tuple)\n",
        "print(\"Dictionary:\", my_dict)"
      ],
      "metadata": {
        "colab": {
          "base_uri": "https://localhost:8080/"
        },
        "id": "KuI3qmjPT8k0",
        "outputId": "1f177263-4d6c-47a5-c5b3-418e30419fee"
      },
      "execution_count": null,
      "outputs": [
        {
          "output_type": "stream",
          "name": "stdout",
          "text": [
            "List: [1, 2, 3, 4, 5]\n",
            "Tuple: (10, 20, 30, 40, 50)\n",
            "Dictionary: {'name': 'Alice', 'age': 30, 'city': 'Paris'}\n"
          ]
        }
      ]
    },
    {
      "cell_type": "markdown",
      "source": [
        "**27. Write a code to create a list of 5 random numbers between 1 and 100, sort it in ascending order, and print the result.(replaced)**"
      ],
      "metadata": {
        "id": "qb0weYRaT8so"
      }
    },
    {
      "cell_type": "code",
      "source": [
        "import random\n",
        "\n",
        "# Generate a list of 5 random numbers between 1 and 100\n",
        "random_numbers = [random.randint(1, 100) for _ in range(5)]\n",
        "\n",
        "# Sort the list in ascending order\n",
        "random_numbers.sort()\n",
        "\n",
        "# Print the sorted list\n",
        "print(\"Sorted list:\", random_numbers)"
      ],
      "metadata": {
        "colab": {
          "base_uri": "https://localhost:8080/"
        },
        "id": "gXNtS0hjT806",
        "outputId": "24b9c52a-95ea-41d2-e2cd-947687baae8b"
      },
      "execution_count": null,
      "outputs": [
        {
          "output_type": "stream",
          "name": "stdout",
          "text": [
            "Sorted list: [23, 50, 70, 72, 89]\n"
          ]
        }
      ]
    },
    {
      "cell_type": "markdown",
      "source": [
        "**28. Write a code to create a list with strings and print the element at the third index.**"
      ],
      "metadata": {
        "id": "gaiyRzErT8-p"
      }
    },
    {
      "cell_type": "code",
      "source": [
        "# Create a list of strings\n",
        "my_list = [\"apple\", \"banana\", \"cherry\", \"date\", \"elderberry\"]\n",
        "\n",
        "# Print the element at the third index\n",
        "print(\"Element at the third index:\", my_list[3])"
      ],
      "metadata": {
        "colab": {
          "base_uri": "https://localhost:8080/"
        },
        "id": "VkkvZJLGT9GZ",
        "outputId": "c7128172-2c3d-471c-c799-bdefe56d4c5c"
      },
      "execution_count": null,
      "outputs": [
        {
          "output_type": "stream",
          "name": "stdout",
          "text": [
            "Element at the third index: date\n"
          ]
        }
      ]
    },
    {
      "cell_type": "markdown",
      "source": [
        "**29. Write a code to combine two dictionaries into one and print the result.**"
      ],
      "metadata": {
        "id": "NBRiOx1jT9Qg"
      }
    },
    {
      "cell_type": "code",
      "source": [
        "# Define two dictionaries\n",
        "dict1 = {'name': 'Alice', 'age': 30}\n",
        "dict2 = {'city': 'Paris', 'country': 'France'}\n",
        "\n",
        "# Combine the two dictionaries\n",
        "dict1.update(dict2)\n",
        "\n",
        "# Print the combined dictionary\n",
        "print(\"Combined Dictionary:\", dict1)"
      ],
      "metadata": {
        "colab": {
          "base_uri": "https://localhost:8080/"
        },
        "id": "pAYxU46MT9Yh",
        "outputId": "ed58fdce-4709-4285-f5be-fbc59c6fd2d8"
      },
      "execution_count": null,
      "outputs": [
        {
          "output_type": "stream",
          "name": "stdout",
          "text": [
            "Combined Dictionary: {'name': 'Alice', 'age': 30, 'city': 'Paris', 'country': 'France'}\n"
          ]
        }
      ]
    },
    {
      "cell_type": "markdown",
      "source": [
        "**30. Write a code to convert a list of strings into a set.**"
      ],
      "metadata": {
        "id": "BviTCTfvT9hx"
      }
    },
    {
      "cell_type": "code",
      "source": [
        "# Define a list of strings\n",
        "my_list = [\"apple\", \"banana\", \"cherry\", \"apple\", \"date\"]\n",
        "\n",
        "my_set = set(my_list)   # Convert the list into a set to remove duplicates\n",
        "\n",
        "print(\"Set:\", my_set)"
      ],
      "metadata": {
        "colab": {
          "base_uri": "https://localhost:8080/"
        },
        "id": "1_BF62TIT9qy",
        "outputId": "96f9a340-c427-405e-8b30-5d358760f1ef"
      },
      "execution_count": null,
      "outputs": [
        {
          "output_type": "stream",
          "name": "stdout",
          "text": [
            "Set: {'date', 'banana', 'apple', 'cherry'}\n"
          ]
        }
      ]
    }
  ]
}